{
 "cells": [
  {
   "cell_type": "markdown",
   "metadata": {},
   "source": [
    "# Dealing with imbalanced data: Credit Card Fraud Detection\n",
    "\n",
    "Summary goes here..."
   ]
  },
  {
   "cell_type": "markdown",
   "metadata": {},
   "source": [
    "## Introduction\n",
    "\n",
    "- **Context:** In order to enhance security, credit card companies would like to reveal fraudulent transactions\n",
    "- **Idea:** Use Machine Learning to identify fraudulent transactions. F"
   ]
  },
  {
   "cell_type": "markdown",
   "metadata": {},
   "source": [
    "### Description of the Dataset*\n",
    "The dataset contains transactions made by credit cards in September 2013 by european cardholders. This dataset presents transactions that occurred in two days, where we have 492 frauds out of 284,807 transactions. The dataset is highly unbalanced, the positive class (frauds) account for 0.172% of all transactions.\n",
    "\n",
    "It contains only numerical input variables which are the result of a PCA transformation. Unfortunately, due to confidentiality issues, we cannot provide the original features and more background information about the data. Features V1, V2, ... V28 are the principal components obtained with PCA, the only features which have not been transformed with PCA are 'Time' and 'Amount'. Feature 'Time' contains the seconds elapsed between each transaction and the first transaction in the dataset. The feature 'Amount' is the transaction Amount, this feature can be used for example-dependant cost-senstive learning. Feature 'Class' is the response variable and it takes value 1 in case of fraud and 0 otherwise.\n",
    "\n",
    "Given the class imbalance ratio, **we recommend measuring the accuracy using the Area Under the Precision-Recall Curve (AUPRC)**. Confusion matrix accuracy is not meaningful for unbalanced classification.\n",
    "\n",
    "*Source: [kaggle.com](https://www.kaggle.com/mlg-ulb/creditcardfraud)"
   ]
  },
  {
   "cell_type": "markdown",
   "metadata": {},
   "source": [
    "### Approach"
   ]
  },
  {
   "cell_type": "markdown",
   "metadata": {},
   "source": [
    "We considered a couple of options for dealing with the imbalance problem and settled for the following three:\n",
    "\n",
    "- Work on the full but imbalanced data set: It will be interesting to see how good models can perform on an imbalanced dataset.\n",
    "- Work on undersampled data set: Undersampling will yield balanced classes but with the cost of loss of information.\n",
    "- Work on the full over-sampled data set: Oversampling will also yield balanced classes but with a lot of data that makes training computationally expensive."
   ]
  },
  {
   "cell_type": "markdown",
   "metadata": {},
   "source": [
    "In the banking context regulation plays a big role and therefore model explainability is very important.\n",
    "We choose a Logistic Regression in order to keep the model simple. The Logistic Regression performed better in early testing then a Random Forest.\n",
    "\n",
    "Instead of comparing many models we focused on the data preparation.\n",
    "- The Logistic Regression has been tested on the following data:\n",
    "- Fully imbalanced set (1)\n",
    "- Latent representation (from Autoencoder) of fully imbalanced set \n",
    "- Under-sampled set (3)\n",
    "- Over-sampled set (4)"
   ]
  },
  {
   "cell_type": "markdown",
   "metadata": {},
   "source": [
    "## Prerequisites"
   ]
  },
  {
   "cell_type": "code",
   "execution_count": 52,
   "metadata": {},
   "outputs": [
    {
     "name": "stdout",
     "output_type": "stream",
     "text": [
      "2.1.0\n"
     ]
    }
   ],
   "source": [
    "import numpy as np"
   ]
  },
  {
   "cell_type": "markdown",
   "metadata": {},
   "source": [
    "### Helper Function for Model Evaluation"
   ]
  },
  {
   "cell_type": "code",
   "execution_count": null,
   "metadata": {},
   "outputs": [],
   "source": [
    "from sklearn.metrics import plot_confusion_matrix, plot_precision_recall_curve\n",
    "import matplotlib.pyplot as plt"
   ]
  },
  {
   "cell_type": "code",
   "execution_count": 6,
   "metadata": {},
   "outputs": [],
   "source": [
    "def evaluate_model(clf, X_test, y_test, name='Not specified'):\n",
    "    \n",
    "    print(f\"Class distribution in test data:\\nNormal: {len(y_test[y_test==0])}\\nFraud: {len(y_test[y_test==1])}\")\n",
    "    \n",
    "    fig, axes = plt.subplots(1,2, figsize=(20,6))\n",
    "    \n",
    "    # Confusion Matrix\n",
    "    plot_confusion_matrix(clf, X_test, y_test, normalize=None,\n",
    "                          display_labels=['Normal', 'Fraud'], cmap='Greens', ax=axes[0])\n",
    "    axes[0].set_title('Confusion Matrix\\n')\n",
    "    \n",
    "    plot_confusion_matrix(clf, X_test, y_test, normalize='true',\n",
    "                          display_labels=['Normal', 'Fraud'], cmap='Greens', ax=axes[1])\n",
    "    axes[1].set_title('Confusion Matrix\\nnormalized')\n",
    "    \n",
    "    # Precision Recall Curve\n",
    "    plot_precision_recall_curve(clf, X_test, y_test, name=name)\n",
    "    plt.title('Precision Recall Curve')"
   ]
  },
  {
   "cell_type": "markdown",
   "metadata": {},
   "source": [
    "### Import Dataset"
   ]
  },
  {
   "cell_type": "code",
   "execution_count": null,
   "metadata": {},
   "outputs": [],
   "source": [
    "import pandas as pd\n",
    "import json\n",
    "import zipfile\n",
    "from pathlib import Path"
   ]
  },
  {
   "cell_type": "code",
   "execution_count": 7,
   "metadata": {},
   "outputs": [],
   "source": [
    "def load_data():\n",
    "    \"\"\" Unzip archive if necessary, import the data and return a Dataframe \"\"\"\n",
    "    \n",
    "    data_dir = Path.cwd() / 'data'\n",
    "    # print(f\"Data files can be found in '{data_dir}'\")\n",
    "    \n",
    "    csv_file = Path(data_dir/'creditcard.csv')\n",
    "    zip_file = Path(data_dir/'creditcard.zip')\n",
    "    \n",
    "    if not csv_file.exists() and zip_file.exists():\n",
    "        with zipfile.ZipFile(zip_file,\"r\") as zip_ref:\n",
    "            # print(f\"Extracting archive {zip_file.name} to {csv_file.name}\")\n",
    "            zip_ref.extractall(data_dir)        \n",
    "        \n",
    "    # print(f\"Loading data from file '{csv_file.name}'\")\n",
    "    return pd.read_csv(csv_file)"
   ]
  },
  {
   "cell_type": "code",
   "execution_count": 8,
   "metadata": {
    "scrolled": false
   },
   "outputs": [
    {
     "name": "stdout",
     "output_type": "stream",
     "text": [
      "Rows: 284807\n",
      "Cols: 31\n"
     ]
    }
   ],
   "source": [
    "df = load_data()\n",
    "print(f\"Rows: {df.shape[0]}\")\n",
    "print(f\"Cols: {df.shape[1]}\")"
   ]
  },
  {
   "cell_type": "markdown",
   "metadata": {},
   "source": [
    "### Split into Train and Test set"
   ]
  },
  {
   "cell_type": "code",
   "execution_count": 55,
   "metadata": {},
   "outputs": [],
   "source": [
    "from sklearn.model_selection import train_test_split\n",
    "seed = 1\n",
    "\n",
    "X_orig = df.drop('Class', axis=1)\n",
    "y_orig = df.Class\n",
    "\n",
    "X_train, X_test, y_train, y_test = train_test_split(X_orig, y_orig, test_size=0.2,\n",
    "                                                    random_state=seed, stratify=y_orig)"
   ]
  },
  {
   "cell_type": "code",
   "execution_count": 22,
   "metadata": {},
   "outputs": [
    {
     "name": "stdout",
     "output_type": "stream",
     "text": [
      "Train samples: 227845\n",
      "Test samples: 56962\n",
      "Ratio: 0.20\n"
     ]
    }
   ],
   "source": [
    "print(f\"Train samples: {y_train.shape[0]}\")\n",
    "print(f\"Test samples: {y_test.shape[0]}\")\n",
    "print(f\"Ratio: {y_test.shape[0]/y_orig.shape[0]:.2f}\")"
   ]
  },
  {
   "cell_type": "markdown",
   "metadata": {},
   "source": [
    "## Scaling the data while avoiding Data Leakage\n",
    "Yes, you saw right, we did not scale the data before the split. In order to avoid information from the training data [leaking](https://machinelearningmastery.com/data-leakage-machine-learning/) into the test set we will do this later. I see people far too often scaling their whole dataset before the model training. This may improve your models performance in an unwanted manner and should be avoided. Instead one should do it like this:\n",
    " - Create the [StandardScaler](https://scikit-learn.org/stable/modules/generated/sklearn.preprocessing.StandardScaler.html#sklearn.preprocessing.StandardScaler) object\n",
    " - Fit scaler on the training data and transform it\n",
    " - Transform the test data without fitting the scaler again"
   ]
  },
  {
   "cell_type": "code",
   "execution_count": 54,
   "metadata": {},
   "outputs": [],
   "source": [
    "from sklearn.preprocessing import StandardScaler\n",
    "\n",
    "scaler = StandardScaler() \n",
    "X_train_scaled = scaler.fit_transform(X_train)\n",
    "X_test_scaled = scaler.transform(X_test)"
   ]
  },
  {
   "cell_type": "markdown",
   "metadata": {},
   "source": [
    "Since we will be using cross validation in this notebook, we also have to make sure that we are scaling the date after creating the folds, such that the validation set does not know about the distribution in the training set either. Luckily sklearns [pipeline](https://scikit-learn.org/stable/modules/generated/sklearn.pipeline.Pipeline.html) helps us with that: it will fit the scaler only on the training folds."
   ]
  },
  {
   "cell_type": "markdown",
   "metadata": {},
   "source": [
    "## Train a simple Model\n",
    "Let's create a simple Logistic Regression model to see how things go. We will not compare multiple models but rather focus on dealing with the imbalance in this dataset. To estimate the models performance we use [cross validation](https://scikit-learn.org/stable/modules/generated/sklearn.model_selection.cross_val_score.html) with [average precision score](https://scikit-learn.org/stable/modules/generated/sklearn.metrics.average_precision_score.html#sklearn.metrics.average_precision_score)."
   ]
  },
  {
   "cell_type": "code",
   "execution_count": 70,
   "metadata": {},
   "outputs": [],
   "source": [
    "# global stuff\n",
    "metric = 'average_precision'"
   ]
  },
  {
   "cell_type": "code",
   "execution_count": 110,
   "metadata": {},
   "outputs": [
    {
     "name": "stdout",
     "output_type": "stream",
     "text": [
      "Simple model mean average precision: 0.7464\n"
     ]
    }
   ],
   "source": [
    "from sklearn.linear_model import LogisticRegression\n",
    "from sklearn.model_selection import cross_val_score, StratifiedKFold\n",
    "\n",
    "simple_lr = LogisticRegression(max_iter=500) # increased max_iter to allow lbfgs-solver converging\n",
    "\n",
    "simple_p = Pipeline([('transformer', scaler), ('estimator', simple_lr)])\n",
    "\n",
    "cv = StratifiedKFold(n_splits=5, shuffle=True, random_state=seed)\n",
    "\n",
    "score = cross_val_score(simple_p, X_train, y_train, scoring=metric, cv=cv, n_jobs=-1)\n",
    "print(f\"Simple model mean average precision: {np.mean(score):.4f}\")"
   ]
  },
  {
   "cell_type": "markdown",
   "metadata": {},
   "source": [
    "## Optimizing the model"
   ]
  },
  {
   "cell_type": "code",
   "execution_count": 113,
   "metadata": {},
   "outputs": [],
   "source": [
    "from sklearn.pipeline import Pipeline\n",
    "from sklearn.model_selection import GridSearchCV\n",
    "\n",
    "lr = LogisticRegression(max_iter=500, multi_class='ovr', n_jobs=-1, random_state=seed)\n",
    "p = Pipeline([('transformer', scaler), ('estimator', lr)])\n",
    "\n",
    "param_grid = {'estimator__C':  np.logspace(-4, 4, 5), # as in sklearn.LogisticRegressionCV\n",
    "              'estimator__class_weight': [None, 'balanced']}\n",
    "\n",
    "grid_search = GridSearchCV(p, param_grid, scoring=metric, n_jobs=-1, cv=cv, verbose=2)"
   ]
  },
  {
   "cell_type": "code",
   "execution_count": 108,
   "metadata": {},
   "outputs": [
    {
     "name": "stdout",
     "output_type": "stream",
     "text": [
      "Fitting 5 folds for each of 10 candidates, totalling 50 fits\n"
     ]
    },
    {
     "name": "stderr",
     "output_type": "stream",
     "text": [
      "[Parallel(n_jobs=-1)]: Using backend LokyBackend with 4 concurrent workers.\n",
      "[Parallel(n_jobs=-1)]: Done  33 tasks      | elapsed:   29.2s\n",
      "[Parallel(n_jobs=-1)]: Done  50 out of  50 | elapsed:   49.8s finished\n"
     ]
    },
    {
     "name": "stdout",
     "output_type": "stream",
     "text": [
      "Optimized model mean average precision: 0.7465\n"
     ]
    }
   ],
   "source": [
    "grid_search.fit(X_train, y_train)\n",
    "print(f\"Optimized model mean average precision: {np.mean(grid_search.best_score_):.4f}\")"
   ]
  },
  {
   "cell_type": "markdown",
   "metadata": {},
   "source": [
    "## Autoencoder + Logistic Regression\n",
    "Here we are using the Autoencoder for dimensionality reduction rather then anomaly detection\n",
    " - Should we compare it with PCA or t-sne?\n",
    " - How does classification via reconstruction error work?"
   ]
  },
  {
   "cell_type": "markdown",
   "metadata": {},
   "source": [
    "What is a good number of (normal) examples for the Autoencoder training?\n",
    " - How many examples do we need to train the logistic regression?\n",
    " - Because AE is a neural network, probably the more examples the better"
   ]
  },
  {
   "cell_type": "code",
   "execution_count": null,
   "metadata": {},
   "outputs": [],
   "source": [
    "import tensorflow as tf\n",
    "from tensorflow.keras.layers import Input, Dense\n",
    "from tensorflow.keras.models import Model, Sequential\n",
    "from tensorflow.keras import regularizers\n",
    "from tensorflow.keras.callbacks import EarlyStopping\n",
    "from tqdm.keras import TqdmCallback\n",
    "print(tf.__version__)\n",
    "\n",
    "tf.random.set_seed(42)"
   ]
  },
  {
   "cell_type": "markdown",
   "metadata": {},
   "source": [
    "### Prepare Data for Autoencoder"
   ]
  },
  {
   "cell_type": "code",
   "execution_count": 8,
   "metadata": {},
   "outputs": [
    {
     "name": "stdout",
     "output_type": "stream",
     "text": [
      "Training data contains 227451 normal transactions\n"
     ]
    }
   ],
   "source": [
    "# Get normal transactions\n",
    "X_train_norm = X_train[y_train == 0]\n",
    "print(f\"Training data contains {X_train_norm.shape[0]} normal transactions\")"
   ]
  },
  {
   "cell_type": "code",
   "execution_count": 9,
   "metadata": {},
   "outputs": [],
   "source": [
    "# Take a fraction of that for training the Autoencoder\n",
    "X_train_AE = X_train_norm.sample(frac=0.5, random_state=seed)\n",
    "\n",
    "# Scale the data\n",
    "X_train_AE_scaled = StandardScaler().fit_transform(X_train_AE)"
   ]
  },
  {
   "cell_type": "markdown",
   "metadata": {},
   "source": [
    "### Create and Train Autoencoder Model"
   ]
  },
  {
   "cell_type": "code",
   "execution_count": 10,
   "metadata": {},
   "outputs": [
    {
     "name": "stdout",
     "output_type": "stream",
     "text": [
      "Saving models in 'model_dir'\n"
     ]
    }
   ],
   "source": [
    "# set parameters for model loading/saving/training\n",
    "load_model = True\n",
    "num_epochs = 500\n",
    "model_dir = f'models/autoencoder_{num_epochs}/'\n",
    "print(\"Saving models in 'model_dir'\")"
   ]
  },
  {
   "cell_type": "code",
   "execution_count": 11,
   "metadata": {},
   "outputs": [],
   "source": [
    "# load model\n",
    "if load_model:\n",
    "    model = tf.keras.models.load_model(model_dir)\n",
    "    with open(model_dir + 'trainHistoryDict.json', 'r') as f:\n",
    "        history = json.load(f)\n",
    "    model.summary()"
   ]
  },
  {
   "cell_type": "markdown",
   "metadata": {},
   "source": [
    "When training the Autoencoder do we need a validation data?"
   ]
  },
  {
   "cell_type": "code",
   "execution_count": 12,
   "metadata": {},
   "outputs": [],
   "source": [
    "def create_model(input_dim=30, latent_dim=50):\n",
    "    \"\"\" Creates an Autoencoder Model where input_dim is the number of features.\n",
    "    The encoding part uses L1-regularization as sparsity constraint \"\"\"\n",
    "    \n",
    "    input_layer = Input(shape=(input_dim,))\n",
    "    encoded = Dense(100, activation='relu', activity_regularizer=regularizers.l1(10e-5))(input_layer)\n",
    "    latent =  Dense(latent_dim, activation='relu')(encoded)\n",
    "    decoded = Dense(100, activation='relu')(latent)\n",
    "    output_layer = Dense(input_dim, activation='linear')(decoded)\n",
    "    \n",
    "    return Model(input_layer, output_layer)"
   ]
  },
  {
   "cell_type": "code",
   "execution_count": 13,
   "metadata": {},
   "outputs": [
    {
     "name": "stdout",
     "output_type": "stream",
     "text": [
      "Model: \"model\"\n",
      "_________________________________________________________________\n",
      "Layer (type)                 Output Shape              Param #   \n",
      "=================================================================\n",
      "input_1 (InputLayer)         [(None, 30)]              0         \n",
      "_________________________________________________________________\n",
      "dense (Dense)                (None, 100)               3100      \n",
      "_________________________________________________________________\n",
      "dense_1 (Dense)              (None, 50)                5050      \n",
      "_________________________________________________________________\n",
      "dense_2 (Dense)              (None, 100)               5100      \n",
      "_________________________________________________________________\n",
      "dense_3 (Dense)              (None, 30)                3030      \n",
      "=================================================================\n",
      "Total params: 16,280\n",
      "Trainable params: 16,280\n",
      "Non-trainable params: 0\n",
      "_________________________________________________________________\n"
     ]
    },
    {
     "data": {
      "application/vnd.jupyter.widget-view+json": {
       "model_id": "6ed39c2e9d9746daa67d234117a38c0f",
       "version_major": 2,
       "version_minor": 0
      },
      "text/plain": [
       "HBox(children=(FloatProgress(value=1.0, bar_style='info', max=1.0), HTML(value='')))"
      ]
     },
     "metadata": {},
     "output_type": "display_data"
    },
    {
     "data": {
      "application/vnd.jupyter.widget-view+json": {
       "model_id": "",
       "version_major": 2,
       "version_minor": 0
      },
      "text/plain": [
       "HBox(children=(FloatProgress(value=1.0, bar_style='info', max=1.0), HTML(value='')))"
      ]
     },
     "metadata": {},
     "output_type": "display_data"
    },
    {
     "name": "stdout",
     "output_type": "stream",
     "text": [
      "\n"
     ]
    }
   ],
   "source": [
    "if not load_model:\n",
    "    model = create_model()\n",
    "    model.compile(optimizer=\"adadelta\", loss=\"mse\")\n",
    "    model.summary()\n",
    "    \n",
    "    history = model.fit(X_train_AE_scaled, X_train_AE_scaled,\n",
    "                        batch_size=64, epochs=num_epochs, verbose=0, validation_split=0.05,\n",
    "                        callbacks=[TqdmCallback(), EarlyStopping(patience=3)])\n",
    "    history = history.history"
   ]
  },
  {
   "cell_type": "code",
   "execution_count": 14,
   "metadata": {},
   "outputs": [
    {
     "name": "stdout",
     "output_type": "stream",
     "text": [
      "WARNING:tensorflow:From D:\\Miniconda3\\envs\\py37-tf2\\lib\\site-packages\\tensorflow_core\\python\\ops\\resource_variable_ops.py:1786: calling BaseResourceVariable.__init__ (from tensorflow.python.ops.resource_variable_ops) with constraint is deprecated and will be removed in a future version.\n",
      "Instructions for updating:\n",
      "If using Keras pass *_constraint arguments to layers.\n",
      "INFO:tensorflow:Assets written to: models/autoencoder_500/assets\n"
     ]
    }
   ],
   "source": [
    "if not load_model:\n",
    "    # save model\n",
    "    model.save(model_dir)\n",
    "\n",
    "    # save history\n",
    "    import json\n",
    "    with open(model_dir + 'trainHistoryDict.json', 'w') as f:\n",
    "        json.dump(history, f)"
   ]
  },
  {
   "cell_type": "code",
   "execution_count": 15,
   "metadata": {},
   "outputs": [
    {
     "data": {
      "image/png": "[encoded data removed]",
      "text/plain": [
       "<Figure size 720x576 with 1 Axes>"
      ]
     },
     "metadata": {
      "needs_background": "light"
     },
     "output_type": "display_data"
    }
   ],
   "source": [
    "# Plot history\n",
    "plt.figure(figsize=(10,8))\n",
    "plt.plot(history['loss'], label='loss')\n",
    "plt.plot(history['val_loss'], label='val loss')\n",
    "plt.ylabel('MSE')\n",
    "plt.xlabel('No. epoch')\n",
    "plt.legend(loc=\"upper left\")\n",
    "plt.show()"
   ]
  },
  {
   "cell_type": "markdown",
   "metadata": {},
   "source": [
    "### Create Encoder Model and Extract Latent Representation"
   ]
  },
  {
   "cell_type": "code",
   "execution_count": 16,
   "metadata": {},
   "outputs": [
    {
     "name": "stdout",
     "output_type": "stream",
     "text": [
      "Model: \"sequential\"\n",
      "_________________________________________________________________\n",
      "Layer (type)                 Output Shape              Param #   \n",
      "=================================================================\n",
      "dense (Dense)                (None, 100)               3100      \n",
      "_________________________________________________________________\n",
      "dense_1 (Dense)              (None, 50)                5050      \n",
      "=================================================================\n",
      "Total params: 8,150\n",
      "Trainable params: 8,150\n",
      "Non-trainable params: 0\n",
      "_________________________________________________________________\n"
     ]
    }
   ],
   "source": [
    "encoder = Sequential([model.layers[0],\n",
    "                      model.layers[1],\n",
    "                      model.layers[2]])\n",
    "encoder.summary()"
   ]
  },
  {
   "cell_type": "code",
   "execution_count": 17,
   "metadata": {},
   "outputs": [],
   "source": [
    "# Remove AE samples from training data for classifier\n",
    "X_train_clf = X_train.drop(X_train_AE.index)\n",
    "y_train_clf = y_train.drop(X_train_AE.index)"
   ]
  },
  {
   "cell_type": "code",
   "execution_count": 18,
   "metadata": {},
   "outputs": [],
   "source": [
    "# Scale data \n",
    "X_train_clf_scaled = StandardScaler().fit_transform(X_train_clf)\n",
    "\n",
    "# Extract latent representation\n",
    "X_train_clf_lat = encoder.predict(X_train_clf_scaled)"
   ]
  },
  {
   "cell_type": "markdown",
   "metadata": {},
   "source": [
    "### Logistic Regression CV with latent data"
   ]
  },
  {
   "cell_type": "code",
   "execution_count": 59,
   "metadata": {},
   "outputs": [],
   "source": [
    "# define hyperparameters\n",
    "K = 5\n",
    "\n",
    "# scoring is usually 'recall' but average precision is area under precision-recall curve\n",
    "scoring = 'recall'\n",
    "\n",
    "parameters = {\n",
    "    'C':  np.logspace(-4, 4, 5) # as in sklearn.LogisticRegressionCV\n",
    "#    'max_iter': [500],\n",
    "    'class_weight': [None, 'balanced'],\n",
    "    'solver': ['lbfgs', 'saga'],\n",
    "    'penalty': ['l1', 'l2']\n",
    "}"
   ]
  },
  {
   "cell_type": "code",
   "execution_count": 60,
   "metadata": {},
   "outputs": [],
   "source": [
    "#TODO lr_model_2 = LogisticRegressionCV()"
   ]
  },
  {
   "cell_type": "code",
   "execution_count": 61,
   "metadata": {},
   "outputs": [
    {
     "name": "stdout",
     "output_type": "stream",
     "text": [
      "Fitting 5 folds for each of 24 candidates, totalling 120 fits\n"
     ]
    },
    {
     "name": "stderr",
     "output_type": "stream",
     "text": [
      "[Parallel(n_jobs=-1)]: Using backend LokyBackend with 4 concurrent workers.\n",
      "[Parallel(n_jobs=-1)]: Done  33 tasks      | elapsed:  6.6min\n",
      "[Parallel(n_jobs=-1)]: Done 120 out of 120 | elapsed: 25.7min finished\n",
      "D:\\Miniconda3\\envs\\py37-tf2\\lib\\site-packages\\sklearn\\linear_model\\_logistic.py:940: ConvergenceWarning: lbfgs failed to converge (status=1):\n",
      "STOP: TOTAL NO. of ITERATIONS REACHED LIMIT.\n",
      "\n",
      "Increase the number of iterations (max_iter) or scale the data as shown in:\n",
      "    https://scikit-learn.org/stable/modules/preprocessing.html\n",
      "Please also refer to the documentation for alternative solver options:\n",
      "    https://scikit-learn.org/stable/modules/linear_model.html#logistic-regression\n",
      "  extra_warning_msg=_LOGISTIC_SOLVER_CONVERGENCE_MSG)\n"
     ]
    },
    {
     "data": {
      "text/plain": [
       "GridSearchCV(cv=5, error_score=nan,\n",
       "             estimator=LogisticRegression(C=1.0, class_weight=None, dual=False,\n",
       "                                          fit_intercept=True,\n",
       "                                          intercept_scaling=1, l1_ratio=None,\n",
       "                                          max_iter=100, multi_class='ovr',\n",
       "                                          n_jobs=None, penalty='l2',\n",
       "                                          random_state=1, solver='lbfgs',\n",
       "                                          tol=0.0001, verbose=0,\n",
       "                                          warm_start=False),\n",
       "             iid='deprecated', n_jobs=-1,\n",
       "             param_grid={'C': [1, 10, 100], 'class_weight': [None, 'balanced'],\n",
       "                         'max_iter': [500], 'penalty': ['l1', 'l2'],\n",
       "                         'solver': ['lbfgs', 'saga']},\n",
       "             pre_dispatch='2*n_jobs', refit=True, return_train_score=False,\n",
       "             scoring='average_precision', verbose=2)"
      ]
     },
     "execution_count": 61,
     "metadata": {},
     "output_type": "execute_result"
    }
   ],
   "source": [
    "# perform CV: one-vs-rest scheme\n",
    "GSCV_2 = GridSearchCV(LogisticRegression(multi_class='ovr', random_state=seed),\n",
    "                      cv=K, param_grid=parameters, scoring=scoring, n_jobs=-1, verbose=2)\n",
    "\n",
    "GSCV_2.fit(X_train_clf_lat, y_train_clf)"
   ]
  },
  {
   "cell_type": "code",
   "execution_count": 62,
   "metadata": {},
   "outputs": [
    {
     "data": {
      "text/plain": [
       "0.8242973626169601"
      ]
     },
     "execution_count": 62,
     "metadata": {},
     "output_type": "execute_result"
    }
   ],
   "source": [
    "# CV results\n",
    "clf_2 = GSCV_2.best_estimator_\n",
    "GSCV_2.best_score_"
   ]
  },
  {
   "cell_type": "code",
   "execution_count": 64,
   "metadata": {},
   "outputs": [
    {
     "ename": "NameError",
     "evalue": "name 'np' is not defined",
     "output_type": "error",
     "traceback": [
      "\u001b[1;31m---------------------------------------------------------------------------\u001b[0m",
      "\u001b[1;31mNameError\u001b[0m                                 Traceback (most recent call last)",
      "\u001b[1;32m<ipython-input-64-f9c4125ff4ad>\u001b[0m in \u001b[0;36m<module>\u001b[1;34m\u001b[0m\n\u001b[1;32m----> 1\u001b[1;33m \u001b[0mnp\u001b[0m\u001b[1;33m.\u001b[0m\u001b[0mlogspace\u001b[0m\u001b[1;33m(\u001b[0m\u001b[1;33m-\u001b[0m\u001b[1;36m4\u001b[0m\u001b[1;33m,\u001b[0m \u001b[1;36m4\u001b[0m\u001b[1;33m,\u001b[0m \u001b[1;36m5\u001b[0m\u001b[1;33m)\u001b[0m\u001b[1;33m\u001b[0m\u001b[1;33m\u001b[0m\u001b[0m\n\u001b[0m",
      "\u001b[1;31mNameError\u001b[0m: name 'np' is not defined"
     ]
    }
   ],
   "source": [
    "np.logspace(-4, 4, 5)"
   ]
  },
  {
   "cell_type": "code",
   "execution_count": 63,
   "metadata": {},
   "outputs": [
    {
     "data": {
      "text/plain": [
       "LogisticRegression(C=100, class_weight=None, dual=False, fit_intercept=True,\n",
       "                   intercept_scaling=1, l1_ratio=None, max_iter=500,\n",
       "                   multi_class='ovr', n_jobs=None, penalty='l2', random_state=1,\n",
       "                   solver='lbfgs', tol=0.0001, verbose=0, warm_start=False)"
      ]
     },
     "execution_count": 63,
     "metadata": {},
     "output_type": "execute_result"
    }
   ],
   "source": [
    "clf_2"
   ]
  },
  {
   "cell_type": "markdown",
   "metadata": {},
   "source": [
    "### Evaluate LR Model"
   ]
  },
  {
   "cell_type": "code",
   "execution_count": 68,
   "metadata": {},
   "outputs": [],
   "source": [
    "# Scale data \n",
    "X_test_clf_scaled = StandardScaler().fit_transform(X_test)\n",
    "\n",
    "# Extract latent representation\n",
    "X_test_clf_lat = encoder.predict(X_test_clf_scaled)"
   ]
  },
  {
   "cell_type": "code",
   "execution_count": 73,
   "metadata": {},
   "outputs": [
    {
     "name": "stdout",
     "output_type": "stream",
     "text": [
      "Class distribution in test data:\n",
      "Normal: 56864\n",
      "Fraud: 98\n"
     ]
    },
    {
     "data": {
      "image/png": "[encoded data removed]",
      "text/plain": [
       "<Figure size 1440x432 with 4 Axes>"
      ]
     },
     "metadata": {
      "needs_background": "light"
     },
     "output_type": "display_data"
    },
    {
     "data": {
      "text/plain": [
       "<Figure size 864x576 with 0 Axes>"
      ]
     },
     "metadata": {},
     "output_type": "display_data"
    },
    {
     "data": {
      "image/png": "[encoded data removed]",
      "text/plain": [
       "<Figure size 432x288 with 1 Axes>"
      ]
     },
     "metadata": {
      "needs_background": "light"
     },
     "output_type": "display_data"
    }
   ],
   "source": [
    "evaluate_model(clf_2, X_test_clf_lat, y_test, 'AE + LogisticRegression')"
   ]
  },
  {
   "cell_type": "code",
   "execution_count": null,
   "metadata": {},
   "outputs": [],
   "source": []
  }
 ],
 "metadata": {
  "kernelspec": {
   "display_name": "Python 3",
   "language": "python",
   "name": "python3"
  },
  "language_info": {
   "codemirror_mode": {
    "name": "ipython",
    "version": 3
   },
   "file_extension": ".py",
   "mimetype": "text/x-python",
   "name": "python",
   "nbconvert_exporter": "python",
   "pygments_lexer": "ipython3",
   "version": "3.7.6"
  }
 },
 "nbformat": 4,
 "nbformat_minor": 4
}
