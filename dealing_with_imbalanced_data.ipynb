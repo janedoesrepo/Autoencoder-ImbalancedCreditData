{
 "cells": [
  {
   "cell_type": "markdown",
   "metadata": {},
   "source": [
    "# Data Preparation for Imbalanced Data: Credit Card Fraud Detection\n",
    "\n",
    "**TL;DR** This notebook evaluates the performance of a simple Logistic Regression on the imbalanced Credit Card Fraud data from kaggle. The focus lies on the data preparation: **Autoencoder, Oversampling (SMOTE), Random Under-sampling and a Combined Sampling method** are used to transform the data before applying the model. Because it is a common mistake to apply data transformations in a way that leads to data leakage, this topic is also covered. In general, classification on sampled datasets achieves higher accuracy in classifying fraudulent transactions while it gets more normal transactions wrong, whereas the Logistic Regression on the latent data from the Autoencoder seems to be a more balanced approach, achieving the highest average precision."
   ]
  },
  {
   "cell_type": "markdown",
   "metadata": {},
   "source": [
    "## Introduction\n",
    "\n",
    "- **Context:** In order to enhance security, credit card companies would like to detect fraudulent transactions. Machine Learning can help with this.\n",
    "- **Limitations:** It is relatively simple to increase the number of correctly classified fraudulent transactions at the cost of misclassifying normal transactions. Weighing the economic costs of misclassifying normal and fraudulent transactions and therefore identifying the best result is beyond the scope of the analysis. "
   ]
  },
  {
   "cell_type": "markdown",
   "metadata": {},
   "source": [
    "### Description of the Dataset\n",
    "The dataset contains transactions made by credit cards in September 2013 by European cardholders. This dataset presents transactions that occurred in two days, where we have 492 frauds out of 284,807 transactions. The dataset is highly unbalanced, the positive class (frauds) account for 0.172% of all transactions. (Source: [kaggle.com/mlg-ulb/creditcardfraud](https://www.kaggle.com/mlg-ulb/creditcardfraud))"
   ]
  },
  {
   "cell_type": "markdown",
   "metadata": {},
   "source": [
    "### Approach"
   ]
  },
  {
   "cell_type": "markdown",
   "metadata": {},
   "source": [
    "A Logistic Regression will be performed after applying different techniques for dealing with the imbalance in the data set. A couple of options have been considered for dealing with the imbalance problem and the following five are implemented now:\n",
    "\n",
    "1. **Logistic Regression:** this will show the performance on the imbalanced data and serves as a baseline for further comparison.\n",
    "2. **Autoencoder:** used to extract a latent representation of the training data. Compression of the data might improve the inherent information.\n",
    "3. **Over-sample the data:** over-sampling will yield balanced classes but with a lot of data that makes training computationally expensive.\n",
    "4. **Under-sample the data:** under-sampling will yield balanced classes but with the cost of loss of information.\n",
    "5. **Combined Sampling:** use SMOTE and Tomek links to combine both over- and under-sampling techniques."
   ]
  },
  {
   "cell_type": "markdown",
   "metadata": {},
   "source": [
    "### Evaluation Metric\n",
    "\n",
    "As proposed by the provider of this dataset the **Area Under the Precision-Recall Curve (AUPRC)** is used for performance evaluation because confusion matrix accuracy is not meaningful for unbalanced classification. "
   ]
  },
  {
   "cell_type": "markdown",
   "metadata": {},
   "source": [
    "## Prerequisites"
   ]
  },
  {
   "cell_type": "markdown",
   "metadata": {},
   "source": [
    "### Import Packages"
   ]
  },
  {
   "cell_type": "code",
   "execution_count": 2,
   "metadata": {
    "ExecuteTime": {
     "end_time": "2020-04-06T21:56:55.465965Z",
     "start_time": "2020-04-06T21:56:42.414415Z"
    }
   },
   "outputs": [
    {
     "name": "stdout",
     "output_type": "stream",
     "text": [
      "2.1.0\n"
     ]
    }
   ],
   "source": [
    "import json\n",
    "import zipfile\n",
    "from pathlib import Path\n",
    "\n",
    "import matplotlib.pyplot as plt\n",
    "import numpy as np\n",
    "import pandas as pd\n",
    "pd.set_option('precision', 2)\n",
    "\n",
    "from imblearn.combine import SMOTETomek\n",
    "from imblearn.over_sampling import SMOTE\n",
    "from imblearn.pipeline import Pipeline as imbPipeline\n",
    "from imblearn.under_sampling import RandomUnderSampler\n",
    "\n",
    "from sklearn.linear_model import LogisticRegression, LogisticRegressionCV\n",
    "from sklearn.metrics import (confusion_matrix, plot_confusion_matrix,\n",
    "                             plot_precision_recall_curve)\n",
    "from sklearn.model_selection import cross_val_score, train_test_split\n",
    "from sklearn.preprocessing import StandardScaler\n",
    "\n",
    "import tensorflow as tf\n",
    "from tensorflow.keras import regularizers\n",
    "from tensorflow.keras.callbacks import EarlyStopping\n",
    "from tensorflow.keras.layers import Dense, Input\n",
    "from tensorflow.keras.models import Model, Sequential\n",
    "from tqdm.keras import TqdmCallback\n",
    "tf.random.set_seed(42)\n",
    "print(tf.__version__)"
   ]
  },
  {
   "cell_type": "markdown",
   "metadata": {},
   "source": [
    "### Set Global Variables"
   ]
  },
  {
   "cell_type": "code",
   "execution_count": 3,
   "metadata": {
    "ExecuteTime": {
     "end_time": "2020-04-06T21:56:55.480951Z",
     "start_time": "2020-04-06T21:56:55.469958Z"
    }
   },
   "outputs": [],
   "source": [
    "seed = 1\n",
    "accuracy = 'average_precision' # equals to area under recall precision curve\n",
    "lr_max_iterations = 10000 # increased max_iter to allow lbfgs-solver converging\n",
    "results = []"
   ]
  },
  {
   "cell_type": "markdown",
   "metadata": {},
   "source": [
    "## Data Preparation"
   ]
  },
  {
   "cell_type": "markdown",
   "metadata": {},
   "source": [
    "### Import Data\n",
    "The dataset exceeds Githubs allowed file-size limits and is therefore only available in .zip format. The helper-function *load_data()* allows data loading independent from whether the archive is already unpacked or not."
   ]
  },
  {
   "cell_type": "code",
   "execution_count": 4,
   "metadata": {
    "ExecuteTime": {
     "end_time": "2020-04-06T21:56:55.496942Z",
     "start_time": "2020-04-06T21:56:55.485951Z"
    },
    "code_folding": [
     0
    ]
   },
   "outputs": [],
   "source": [
    "def load_data():\n",
    "    \"\"\" Unzip archive if necessary, import the data and return a Dataframe \"\"\"\n",
    "    \n",
    "    data_dir = Path.cwd() / 'data'  \n",
    "    csv_file = Path(data_dir/'creditcard.csv')\n",
    "    zip_file = Path(data_dir/'creditcard.zip')\n",
    "    \n",
    "    if not csv_file.exists() and zip_file.exists():\n",
    "        with zipfile.ZipFile(zip_file,\"r\") as zip_ref:\n",
    "            zip_ref.extractall(data_dir)        \n",
    "        \n",
    "    return pd.read_csv(csv_file)"
   ]
  },
  {
   "cell_type": "code",
   "execution_count": 5,
   "metadata": {
    "ExecuteTime": {
     "end_time": "2020-04-06T21:57:02.225091Z",
     "start_time": "2020-04-06T21:56:55.502939Z"
    },
    "scrolled": false
   },
   "outputs": [],
   "source": [
    "df = load_data()\n",
    "\n",
    "assert(df.shape[0] == 284807) # let's make sure the data is loaded as expected\n",
    "assert(df.shape[1] == 31)"
   ]
  },
  {
   "cell_type": "markdown",
   "metadata": {},
   "source": [
    "### Split into Train and Test Set\n",
    "For splitting we use sklearns *train_test_split* with the stratify option in order to keep the ratio of normal and fraudulent transactions in the test and training data equal."
   ]
  },
  {
   "cell_type": "code",
   "execution_count": 6,
   "metadata": {
    "ExecuteTime": {
     "end_time": "2020-04-06T21:57:02.752788Z",
     "start_time": "2020-04-06T21:57:02.228089Z"
    }
   },
   "outputs": [],
   "source": [
    "X_orig = df.drop('Class', axis=1)\n",
    "y_orig = df.Class\n",
    "\n",
    "X_train, X_test, y_train, y_test = train_test_split(X_orig, y_orig, test_size=0.2,\n",
    "                                                    random_state=seed, stratify=y_orig)\n",
    "test_data = [X_test, y_test]"
   ]
  },
  {
   "cell_type": "code",
   "execution_count": 7,
   "metadata": {
    "ExecuteTime": {
     "end_time": "2020-04-06T21:57:02.785770Z",
     "start_time": "2020-04-06T21:57:02.755788Z"
    }
   },
   "outputs": [
    {
     "name": "stdout",
     "output_type": "stream",
     "text": [
      "Training data class counts:\n",
      "0    227451\n",
      "1       394\n",
      "Name: Class, dtype: int64\n",
      "\n",
      "Test data class counts:\n",
      "0    56864\n",
      "1       98\n",
      "Name: Class, dtype: int64\n",
      "\n"
     ]
    }
   ],
   "source": [
    "print(f\"Training data class counts:\\n{y_train.value_counts()}\")\n",
    "print('')\n",
    "print(f\"Test data class counts:\\n{y_test.value_counts()}\")\n",
    "print('')\n",
    "assert(y_test.shape[0]/y_orig.shape[0] > 0.19)"
   ]
  },
  {
   "cell_type": "markdown",
   "metadata": {},
   "source": [
    "### Standardizing (and avoiding Data Leakage)\n",
    "The dataset contains two features ('Amount' and 'Time') that are on a totally different scale than the rest of the features. who are the result of a Principal Component Analysis). In theory it isn't required to standardize data for Logistic Regression (e.g. [here](https://stats.stackexchange.com/questions/48360/is-standardization-needed-before-fitting-logistic-regression)). Nonetheless, tests have shown better performance of Logistic Regression when the data has been standardized in advance and because of that the data here will be scaled.\n",
    "\n",
    "However, we did not scale the data before the split. In order to avoid information from the training data [leaking](https://machinelearningmastery.com/data-leakage-machine-learning/) into the test-set, this is done afterwards. Data Scientists far too often neglect the effects of data leakage, scaling their whole dataset before the model training. This may improve the models performance in an unwanted manner and result in worse accuracy when dealing with data in production. \n",
    "\n",
    "Here is a simple \"recipe\" for standardization:\n",
    " - Create the [StandardScaler](https://scikit-learn.org/stable/modules/generated/sklearn.preprocessing.StandardScaler.html#sklearn.preprocessing.StandardScaler) object\n",
    " - Fit scaler on the training data and transform the data\n",
    " - Transform the test data without fitting the scaler again"
   ]
  },
  {
   "cell_type": "code",
   "execution_count": 8,
   "metadata": {
    "ExecuteTime": {
     "end_time": "2020-04-06T21:57:03.235513Z",
     "start_time": "2020-04-06T21:57:02.790769Z"
    }
   },
   "outputs": [],
   "source": [
    "scaler = StandardScaler() \n",
    "X_train_scaled = scaler.fit_transform(X_train)\n",
    "X_test_scaled = scaler.transform(X_test)\n",
    "\n",
    "test_data_scaled = [X_test_scaled, y_test]"
   ]
  },
  {
   "cell_type": "markdown",
   "metadata": {},
   "source": [
    "## Logistic Regression Baseline\n",
    "Let us create a simple Logistic Regression model to see how things go. We will not compare multiple models but rather focus on dealing with the imbalance in this dataset. To estimate the models performance we use [average precision score](https://scikit-learn.org/stable/modules/generated/sklearn.metrics.average_precision_score.html#sklearn.metrics.average_precision_score) because it equals the Area Under the Precision-Recall Curve."
   ]
  },
  {
   "cell_type": "code",
   "execution_count": 9,
   "metadata": {
    "ExecuteTime": {
     "end_time": "2020-04-06T21:57:03.275490Z",
     "start_time": "2020-04-06T21:57:03.242510Z"
    },
    "code_folding": [
     0
    ]
   },
   "outputs": [],
   "source": [
    "def evaluate_model(test_data, estimator, name='Not specified'):\n",
    "    \n",
    "    X_test = test_data[0]\n",
    "    y_test = test_data[1]\n",
    "    \n",
    "    num_fraud_cases_in_test = len(y_test[y_test==1])\n",
    "    num_normal_cases_in_test = len(y_test[y_test==0])\n",
    "    \n",
    "    predictions = estimator.predict(X_test)\n",
    "    cm = confusion_matrix(y_test, predictions)\n",
    "    \n",
    "    # Plot normalized confusion matrix and precision recall curve\n",
    "    fig, axes = plt.subplots(1,2, figsize=(14,6))\n",
    "    \n",
    "    plot_confusion_matrix(estimator, X_test, y_test, normalize='true',\n",
    "                          display_labels=['Normal', 'Fraud'], cmap='Greens', values_format=\".4f\", ax=axes[0])\n",
    "    axes[0].set_title('Confusion Matrix (normalized)')\n",
    "    \n",
    "    prc = plot_precision_recall_curve(estimator, X_test, y_test, name=name, ax=axes[1])\n",
    "    axes[1].set_title('Precision Recall Curve')\n",
    "    plt.tight_layout()\n",
    "    \n",
    "    # Print summary    \n",
    "    print(f\"Classified \\t{cm[1,1]} out of {num_fraud_cases_in_test} \\tfraud cases correctly\")\n",
    "    print(f\"Misclassified \\t{cm[0,1]} out of {num_normal_cases_in_test} normal cases\")\n",
    "    print(f\"Average preicision score is {prc.average_precision:.4f}\")\n",
    "    \n",
    "    return [name, cm[1,1], cm[1,1]/num_fraud_cases_in_test*100, cm[0,1], prc.average_precision]"
   ]
  },
  {
   "cell_type": "code",
   "execution_count": 10,
   "metadata": {
    "ExecuteTime": {
     "end_time": "2020-04-06T21:57:08.366575Z",
     "start_time": "2020-04-06T21:57:03.281486Z"
    }
   },
   "outputs": [
    {
     "name": "stdout",
     "output_type": "stream",
     "text": [
      "Classified \t69 out of 98 \tfraud cases correctly\n",
      "Misclassified \t10 out of 56864 normal cases\n",
      "Average preicision score is 0.8136\n"
     ]
    },
    {
     "data": {
      "image/png": "[encoded data removed]",
      "text/plain": [
       "<Figure size 1008x432 with 3 Axes>"
      ]
     },
     "metadata": {
      "needs_background": "light"
     },
     "output_type": "display_data"
    }
   ],
   "source": [
    "simple_LR = LogisticRegression(max_iter=lr_max_iterations, random_state=seed) \n",
    "simple_LR.fit(X_train_scaled, y_train)\n",
    "res = evaluate_model(test_data_scaled, simple_LR, name='Logistic Regression Baseline')\n",
    "results.append(res)"
   ]
  },
  {
   "cell_type": "markdown",
   "metadata": {},
   "source": [
    "The baseline model does not perform too bad. It already identifies 70% of frauds and classifies 99,98% of normal transactions correctly. The area under the precision-recall-curve or average precision is 0.8136."
   ]
  },
  {
   "cell_type": "markdown",
   "metadata": {},
   "source": [
    "## Autoencoder"
   ]
  },
  {
   "cell_type": "markdown",
   "metadata": {},
   "source": [
    "### Prepare Data for Autoencoder\n",
    "For training the Autoencoder only needs samples of the majority class because it is supposed to learn a compressed representation of those. Therefore the training data set is separated by class and a fraction of the normal samples are used for the Autoencoder training. To improve convergence they are standardized as well.\n",
    "The samples showed to the Autoencoder should not be used to train the Logistic Regression model. Therefore, a new training set for the estimator is created."
   ]
  },
  {
   "cell_type": "code",
   "execution_count": 11,
   "metadata": {
    "ExecuteTime": {
     "end_time": "2020-04-06T21:57:09.056180Z",
     "start_time": "2020-04-06T21:57:08.370573Z"
    }
   },
   "outputs": [],
   "source": [
    "X_train_0 = X_train[y_train == 0]\n",
    "X_train_AE = X_train_0.sample(frac=0.5, random_state=seed)\n",
    "X_train_AE_scaled = StandardScaler().fit_transform(X_train_AE)\n",
    "\n",
    "X_train_est = X_train.drop(X_train_AE.index)\n",
    "y_train_est = y_train.drop(X_train_AE.index)\n",
    "\n",
    "latent_scaler = StandardScaler()\n",
    "X_train_est_scaled = latent_scaler.fit_transform(X_train_est)\n",
    "X_test_est_scaled = latent_scaler.transform(X_test)"
   ]
  },
  {
   "cell_type": "markdown",
   "metadata": {},
   "source": [
    "### Autoencoder Model\n",
    "The Autoencoder consists of 5 layers: an input layer and the encoding part, the latent representation itself and the decoder part as well as an output layer. It is up to discussion what fraction of the data should be used for Autoencoder training and respectively kept for the Linear Regression. Furthermore, no optimization has been performed on this model. As we will see later, it has a nice and converging training curve and does the job."
   ]
  },
  {
   "cell_type": "code",
   "execution_count": 12,
   "metadata": {
    "ExecuteTime": {
     "end_time": "2020-04-06T21:57:09.070173Z",
     "start_time": "2020-04-06T21:57:09.059179Z"
    }
   },
   "outputs": [],
   "source": [
    "def create_autoencoder(input_dim=30, latent_dim=50):\n",
    "    \"\"\" Creates an Autoencoder Model where input_dim is the number of features.\n",
    "    The encoding part uses L1-regularization as sparsity constraint \"\"\"\n",
    "    \n",
    "    input_layer = Input(shape=(input_dim,), name='Input')\n",
    "    encoded = Dense(100, activation='relu', activity_regularizer=regularizers.l1(10e-5), name='Encoding')(input_layer)\n",
    "    latent =  Dense(latent_dim, activation='relu', name='Latent')(encoded)\n",
    "    decoded = Dense(100, activation='relu', name='Decoding')(latent)\n",
    "    output_layer = Dense(input_dim, activation='linear', name='Output')(decoded)\n",
    "    \n",
    "    autoencoder = Model(input_layer, output_layer)\n",
    "    return autoencoder"
   ]
  },
  {
   "cell_type": "code",
   "execution_count": null,
   "metadata": {
    "ExecuteTime": {
     "start_time": "2020-04-06T21:56:43.651Z"
    }
   },
   "outputs": [
    {
     "name": "stdout",
     "output_type": "stream",
     "text": [
      "Model: \"model\"\n",
      "_________________________________________________________________\n",
      "Layer (type)                 Output Shape              Param #   \n",
      "=================================================================\n",
      "Input (InputLayer)           [(None, 30)]              0         \n",
      "_________________________________________________________________\n",
      "Encoding (Dense)             (None, 100)               3100      \n",
      "_________________________________________________________________\n",
      "Latent (Dense)               (None, 50)                5050      \n",
      "_________________________________________________________________\n",
      "Decoding (Dense)             (None, 100)               5100      \n",
      "_________________________________________________________________\n",
      "Output (Dense)               (None, 30)                3030      \n",
      "=================================================================\n",
      "Total params: 16,280\n",
      "Trainable params: 16,280\n",
      "Non-trainable params: 0\n",
      "_________________________________________________________________\n"
     ]
    },
    {
     "data": {
      "application/vnd.jupyter.widget-view+json": {
       "model_id": "c273aa62e67a4f83a981233cb65dc54e",
       "version_major": 2,
       "version_minor": 0
      },
      "text/plain": [
       "HBox(children=(FloatProgress(value=1.0, bar_style='info', max=1.0), HTML(value='')))"
      ]
     },
     "metadata": {},
     "output_type": "display_data"
    },
    {
     "data": {
      "application/vnd.jupyter.widget-view+json": {
       "model_id": "475be3b0e76a4b1d8e38dc348f04ca8d",
       "version_major": 2,
       "version_minor": 0
      },
      "text/plain": [
       "HBox(children=(FloatProgress(value=1.0, bar_style='info', max=1.0), HTML(value='')))"
      ]
     },
     "metadata": {},
     "output_type": "display_data"
    }
   ],
   "source": [
    "autoencoder = create_autoencoder()\n",
    "autoencoder.compile(optimizer=\"adadelta\", loss=\"mse\")\n",
    "autoencoder.summary()\n",
    "    \n",
    "history = autoencoder.fit(X_train_AE_scaled, X_train_AE_scaled,\n",
    "                          batch_size=64, epochs=500, verbose=0, validation_split=0.15,\n",
    "                          callbacks=[TqdmCallback(), EarlyStopping(patience=3)])"
   ]
  },
  {
   "cell_type": "code",
   "execution_count": null,
   "metadata": {
    "ExecuteTime": {
     "start_time": "2020-04-06T21:56:43.655Z"
    }
   },
   "outputs": [],
   "source": [
    "plt.figure(figsize=(12,8))\n",
    "plt.plot(history.history['loss'], label='loss')\n",
    "plt.plot(history.history['val_loss'], label='val loss')\n",
    "plt.ylabel('MSE')\n",
    "plt.xlabel('No. epoch')\n",
    "plt.legend(loc=\"upper left\")\n",
    "plt.title(\"Autoencoder Training History\")\n",
    "plt.show()"
   ]
  },
  {
   "cell_type": "markdown",
   "metadata": {},
   "source": [
    "### Encoder Model and Latent Representation\n",
    "The encoder part of the Autoencoder consists of all the layers from the input layer up to the latent layer, which in this case are the first three layers. By predicting the compressed representation of the data one can easily extract the latent data for classification."
   ]
  },
  {
   "cell_type": "code",
   "execution_count": null,
   "metadata": {
    "ExecuteTime": {
     "start_time": "2020-04-06T21:56:43.773Z"
    }
   },
   "outputs": [],
   "source": [
    "def create_encoder(autoencoder):\n",
    "    encoder = Sequential([autoencoder.layers[0],\n",
    "                          autoencoder.layers[1],\n",
    "                          autoencoder.layers[2]])\n",
    "    return encoder"
   ]
  },
  {
   "cell_type": "code",
   "execution_count": null,
   "metadata": {
    "ExecuteTime": {
     "start_time": "2020-04-06T21:56:43.779Z"
    }
   },
   "outputs": [],
   "source": [
    "encoder = create_encoder(autoencoder)\n",
    "encoder.summary()"
   ]
  },
  {
   "cell_type": "code",
   "execution_count": null,
   "metadata": {
    "ExecuteTime": {
     "start_time": "2020-04-06T21:56:43.784Z"
    }
   },
   "outputs": [],
   "source": [
    "X_train_latent = encoder.predict(X_train_est_scaled)\n",
    "X_test_latent = encoder.predict(X_test_est_scaled)\n",
    "test_data_latent = [X_test_latent, y_test]"
   ]
  },
  {
   "cell_type": "markdown",
   "metadata": {},
   "source": [
    "### Classification\n",
    "Now that the latent representation has been extracted the data can be classified, again using a Linear Regression model. This time the model will be optimized using 5-fold cross-validation."
   ]
  },
  {
   "cell_type": "code",
   "execution_count": null,
   "metadata": {
    "ExecuteTime": {
     "start_time": "2020-04-06T21:56:43.906Z"
    }
   },
   "outputs": [],
   "source": [
    "log_reg_cv = LogisticRegressionCV(Cs=5, scoring=accuracy, max_iter=lr_max_iterations, n_jobs=-1, random_state=seed)\n",
    "log_reg_cv.fit(X_train_latent, y_train_est)\n",
    "res = evaluate_model(test_data_latent, log_reg_cv, name='Autoencoder')\n",
    "results.append(res)"
   ]
  },
  {
   "cell_type": "markdown",
   "metadata": {},
   "source": [
    "Classifying on the latent representations leads to an improvement of ~9% points for the fraudulent transactions. A few more normal transactions have been misclassified but it is almost negligible. The average precision is now 0.8271, so only a little bit better than the baseline."
   ]
  },
  {
   "cell_type": "markdown",
   "metadata": {},
   "source": [
    "## Sampling Methods\n",
    "By sampling we understand the draw of an example - in this case a credit card transaction - from the distribution of known examples. In case of SMOTE (oversampling) this is more or less what happens. Most under-sampling methods on the other hand remove examples of the majority class, reducing it to the number of examples in the minority class. These methods can also be combined.\n",
    "\n",
    "One important thing when using sampling methods combined with cross-validation is to avoid data leakage. In order to do this, it is essential to sample during cross-validation and not before. Luckily the imbalanced-learn package provides us with a pipeline that takes care of exactly that. The picture below shows the framework that is applied here.\n",
    "\n",
    "![A framework for using sampling methods with cross-validation](img/sampling-framework.PNG \"Logo Title Text 1\")\n",
    "\n",
    "\n",
    "\n",
    "All the sampling methods are from the [imbalanced-learn](https://imbalanced-learn.org/stable/index.html) package."
   ]
  },
  {
   "cell_type": "markdown",
   "metadata": {},
   "source": [
    "### Oversampling"
   ]
  },
  {
   "cell_type": "code",
   "execution_count": 97,
   "metadata": {
    "ExecuteTime": {
     "end_time": "2020-04-05T19:05:45.072232Z",
     "start_time": "2020-04-05T19:04:26.190729Z"
    }
   },
   "outputs": [
    {
     "name": "stdout",
     "output_type": "stream",
     "text": [
      "Classified \t90 out of 98 \tfraud cases correctly\n",
      "Misclassified \t532 out of 56864 normal cases\n",
      "Average preicision score is 0.8046\n"
     ]
    },
    {
     "data": {
      "image/png": "[encoded data removed]",
      "text/plain": [
       "<Figure size 1008x432 with 3 Axes>"
      ]
     },
     "metadata": {
      "needs_background": "light"
     },
     "output_type": "display_data"
    }
   ],
   "source": [
    "oversampler = SMOTE(sampling_strategy='minority', n_jobs=-1, random_state=seed)\n",
    "log_reg_os  = LogisticRegressionCV(Cs=5, scoring=accuracy, max_iter=lr_max_iterations, n_jobs=-1, random_state=seed)\n",
    "\n",
    "pipeline = imbPipeline([\n",
    "    ('sampler', oversampler),\n",
    "    ('transformer', StandardScaler()),\n",
    "    ('classification', log_reg_os)])\n",
    "\n",
    "pipeline.fit(X_train, y_train)\n",
    "\n",
    "res = evaluate_model(test_data, pipeline, name='Oversampling')\n",
    "results.append(res)"
   ]
  },
  {
   "cell_type": "markdown",
   "metadata": {},
   "source": [
    "With oversampling the model identifies almost 92% of the fraudulent transactions correctly. On the downside almost 1% of the normal cases are misclassified. The average precision dropped 0.8046, the worst so far."
   ]
  },
  {
   "cell_type": "markdown",
   "metadata": {},
   "source": [
    "### Undersampling"
   ]
  },
  {
   "cell_type": "code",
   "execution_count": 98,
   "metadata": {
    "ExecuteTime": {
     "end_time": "2020-04-05T19:05:51.262693Z",
     "start_time": "2020-04-05T19:05:45.942737Z"
    }
   },
   "outputs": [
    {
     "name": "stdout",
     "output_type": "stream",
     "text": [
      "Classified \t91 out of 98 \tfraud cases correctly\n",
      "Misclassified \t1389 out of 56864 normal cases\n",
      "Average preicision score is 0.6490\n"
     ]
    },
    {
     "data": {
      "image/png": "[encoded data removed]",
      "text/plain": [
       "<Figure size 1008x432 with 3 Axes>"
      ]
     },
     "metadata": {
      "needs_background": "light"
     },
     "output_type": "display_data"
    }
   ],
   "source": [
    "undersampler = RandomUnderSampler(sampling_strategy='majority', random_state=seed)\n",
    "log_reg_us   = LogisticRegressionCV(Cs=5, scoring=accuracy, max_iter=lr_max_iterations, n_jobs=-1, random_state=seed)\n",
    "\n",
    "pipeline = imbPipeline([\n",
    "        ('sampler', undersampler),\n",
    "        ('transformer', StandardScaler()),\n",
    "        ('estimator', log_reg_us)])\n",
    "\n",
    "pipeline.fit(X_train, y_train)\n",
    "\n",
    "res = evaluate_model(test_data, pipeline, 'Undersampling')\n",
    "results.append(res)"
   ]
  },
  {
   "cell_type": "markdown",
   "metadata": {},
   "source": [
    "Applying the model to the under-sampled data detects one more fraud case than with oversampling, the score now being at almost 93%. But the increase in misclassified normal transactions is huge with around 7% leading to a decrease in average precision to merely 0.6490."
   ]
  },
  {
   "cell_type": "markdown",
   "metadata": {},
   "source": [
    "### Combinded Sampling"
   ]
  },
  {
   "cell_type": "code",
   "execution_count": 99,
   "metadata": {},
   "outputs": [
    {
     "name": "stdout",
     "output_type": "stream",
     "text": [
      "Classified \t90 out of 98 \tfraud cases correctly\n",
      "Misclassified \t531 out of 56864 normal cases\n",
      "Average preicision score is 0.8047\n"
     ]
    },
    {
     "data": {
      "image/png": "[encoded data removed]",
      "text/plain": [
       "<Figure size 1008x432 with 3 Axes>"
      ]
     },
     "metadata": {
      "needs_background": "light"
     },
     "output_type": "display_data"
    }
   ],
   "source": [
    "combined_sampler = SMOTETomek(n_jobs=-1, random_state=seed)\n",
    "log_reg_comb   = LogisticRegressionCV(Cs=5, scoring=accuracy, max_iter=lr_max_iterations, n_jobs=-1, random_state=seed)\n",
    "\n",
    "pipeline = imbPipeline([\n",
    "        ('sampler', combined_sampler),\n",
    "        ('transformer', StandardScaler()),\n",
    "        ('estimator', log_reg_comb)])\n",
    "\n",
    "pipeline.fit(X_train, y_train)\n",
    "\n",
    "res = evaluate_model(test_data, pipeline, 'Combined Sampling')\n",
    "results.append(res)"
   ]
  },
  {
   "cell_type": "markdown",
   "metadata": {},
   "source": [
    "Combined sampling yields almost the same results as oversampling. It performs slightly better, classifying one additional normal case correctly. The change in average precision is minor with now 0.8047."
   ]
  },
  {
   "cell_type": "markdown",
   "metadata": {},
   "source": [
    "## Conclusion\n",
    "To compare the results we can convert the list of results to a DataFrame:"
   ]
  },
  {
   "cell_type": "code",
   "execution_count": 101,
   "metadata": {},
   "outputs": [
    {
     "data": {
      "text/html": [
       "<div>\n",
       "<style scoped>\n",
       "    .dataframe tbody tr th:only-of-type {\n",
       "        vertical-align: middle;\n",
       "    }\n",
       "\n",
       "    .dataframe tbody tr th {\n",
       "        vertical-align: top;\n",
       "    }\n",
       "\n",
       "    .dataframe thead th {\n",
       "        text-align: right;\n",
       "    }\n",
       "</style>\n",
       "<table border=\"1\" class=\"dataframe\">\n",
       "  <thead>\n",
       "    <tr style=\"text-align: right;\">\n",
       "      <th></th>\n",
       "      <th>True Negatives (TN)</th>\n",
       "      <th>TN in %</th>\n",
       "      <th>False Positives (FP)</th>\n",
       "      <th>AUPRC</th>\n",
       "    </tr>\n",
       "    <tr>\n",
       "      <th>Model</th>\n",
       "      <th></th>\n",
       "      <th></th>\n",
       "      <th></th>\n",
       "      <th></th>\n",
       "    </tr>\n",
       "  </thead>\n",
       "  <tbody>\n",
       "    <tr>\n",
       "      <th>Logistic Regression Baseline</th>\n",
       "      <td>69</td>\n",
       "      <td>70.41</td>\n",
       "      <td>10</td>\n",
       "      <td>0.81</td>\n",
       "    </tr>\n",
       "    <tr>\n",
       "      <th>Autoencoder</th>\n",
       "      <td>77</td>\n",
       "      <td>78.57</td>\n",
       "      <td>14</td>\n",
       "      <td>0.83</td>\n",
       "    </tr>\n",
       "    <tr>\n",
       "      <th>Oversampling</th>\n",
       "      <td>90</td>\n",
       "      <td>91.84</td>\n",
       "      <td>532</td>\n",
       "      <td>0.80</td>\n",
       "    </tr>\n",
       "    <tr>\n",
       "      <th>Undersampling</th>\n",
       "      <td>91</td>\n",
       "      <td>92.86</td>\n",
       "      <td>1389</td>\n",
       "      <td>0.65</td>\n",
       "    </tr>\n",
       "    <tr>\n",
       "      <th>Combined Sampling</th>\n",
       "      <td>90</td>\n",
       "      <td>91.84</td>\n",
       "      <td>531</td>\n",
       "      <td>0.80</td>\n",
       "    </tr>\n",
       "  </tbody>\n",
       "</table>\n",
       "</div>"
      ],
      "text/plain": [
       "                              True Negatives (TN)  TN in %  \\\n",
       "Model                                                        \n",
       "Logistic Regression Baseline                   69    70.41   \n",
       "Autoencoder                                    77    78.57   \n",
       "Oversampling                                   90    91.84   \n",
       "Undersampling                                  91    92.86   \n",
       "Combined Sampling                              90    91.84   \n",
       "\n",
       "                              False Positives (FP)  AUPRC  \n",
       "Model                                                      \n",
       "Logistic Regression Baseline                    10   0.81  \n",
       "Autoencoder                                     14   0.83  \n",
       "Oversampling                                   532   0.80  \n",
       "Undersampling                                 1389   0.65  \n",
       "Combined Sampling                              531   0.80  "
      ]
     },
     "execution_count": 101,
     "metadata": {},
     "output_type": "execute_result"
    }
   ],
   "source": [
    "pd.DataFrame(results,\n",
    "             columns=[\"Model\", \"True Negatives (TN)\", \"TN in %\", \"False Positives (FP)\", \"AUPRC\"]\n",
    "            ).set_index(\"Model\")"
   ]
  },
  {
   "cell_type": "markdown",
   "metadata": {},
   "source": [
    "It is noticeable that the classifier seems to identify fraudulent transactions way easier when sampling methods have been applied (69-77 TN vs. 90-91 TN) but on the other hand it gets a lot more normal transactions wrong (10-14 FP vs 531-1389 FP).\n",
    "\n",
    "Looking at the Area Under the Precision-Recall Curve, all sampling models are worse than the baseline (0.65 and 0.80 < 0.81) whereas the Autoencoder clearly has the best score with 0.83. All in all, the Autoencoder seems to be the most balanced approach to tackle this problem and can certainly be optimized."
   ]
  }
 ],
 "metadata": {
  "kernelspec": {
   "display_name": "Python [conda env:py37-tf2]",
   "language": "python",
   "name": "conda-env-py37-tf2-py"
  },
  "language_info": {
   "codemirror_mode": {
    "name": "ipython",
    "version": 3
   },
   "file_extension": ".py",
   "mimetype": "text/x-python",
   "name": "python",
   "nbconvert_exporter": "python",
   "pygments_lexer": "ipython3",
   "version": "3.7.6"
  },
  "latex_envs": {
   "LaTeX_envs_menu_present": true,
   "autoclose": false,
   "autocomplete": true,
   "bibliofile": "biblio.bib",
   "cite_by": "apalike",
   "current_citInitial": 1,
   "eqLabelWithNumbers": true,
   "eqNumInitial": 1,
   "hotkeys": {
    "equation": "Ctrl-E",
    "itemize": "Ctrl-I"
   },
   "labels_anchors": false,
   "latex_user_defs": false,
   "report_style_numbering": false,
   "user_envs_cfg": false
  },
  "toc": {
   "base_numbering": 1,
   "nav_menu": {},
   "number_sections": true,
   "sideBar": true,
   "skip_h1_title": true,
   "title_cell": "Table of Contents",
   "title_sidebar": "Contents",
   "toc_cell": false,
   "toc_position": {
    "height": "calc(100% - 180px)",
    "left": "10px",
    "top": "150px",
    "width": "512px"
   },
   "toc_section_display": true,
   "toc_window_display": false
  },
  "varInspector": {
   "cols": {
    "lenName": 16,
    "lenType": 16,
    "lenVar": 40
   },
   "kernels_config": {
    "python": {
     "delete_cmd_postfix": "",
     "delete_cmd_prefix": "del ",
     "library": "var_list.py",
     "varRefreshCmd": "print(var_dic_list())"
    },
    "r": {
     "delete_cmd_postfix": ") ",
     "delete_cmd_prefix": "rm(",
     "library": "var_list.r",
     "varRefreshCmd": "cat(var_dic_list()) "
    }
   },
   "types_to_exclude": [
    "module",
    "function",
    "builtin_function_or_method",
    "instance",
    "_Feature"
   ],
   "window_display": false
  }
 },
 "nbformat": 4,
 "nbformat_minor": 4
}
