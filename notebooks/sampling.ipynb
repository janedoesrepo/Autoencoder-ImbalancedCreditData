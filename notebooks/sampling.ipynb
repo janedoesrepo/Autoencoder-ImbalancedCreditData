{
 "cells": [
  {
   "cell_type": "markdown",
   "metadata": {
    "toc": true
   },
   "source": [
    "<h1>Table of Contents<span class=\"tocSkip\"></span></h1>\n",
    "<div class=\"toc\"><ul class=\"toc-item\"><li><span><a href=\"#Introduction\" data-toc-modified-id=\"Introduction-1\"><span class=\"toc-item-num\">1&nbsp;&nbsp;</span>Introduction</a></span></li><li><span><a href=\"#SMOTE:-Synthetic-Minority-Over-sampling-Technique\" data-toc-modified-id=\"SMOTE:-Synthetic-Minority-Over-sampling-Technique-2\"><span class=\"toc-item-num\">2&nbsp;&nbsp;</span>SMOTE: Synthetic Minority Over-sampling Technique</a></span></li><li><span><a href=\"#Under-sampling\" data-toc-modified-id=\"Under-sampling-3\"><span class=\"toc-item-num\">3&nbsp;&nbsp;</span>Under-sampling</a></span></li></ul></div>"
   ]
  },
  {
   "cell_type": "markdown",
   "metadata": {},
   "source": [
    "# Sampling Methods\n",
    "Introducing sampling methods to deal with imbalanced data"
   ]
  },
  {
   "cell_type": "code",
   "execution_count": 1,
   "metadata": {},
   "outputs": [],
   "source": [
    "import pandas as pd\n",
    "import numpy as np\n",
    "\n",
    "seed = 42 # Random seed for replicability"
   ]
  },
  {
   "cell_type": "markdown",
   "metadata": {},
   "source": [
    "## Introduction\n",
    "In the EDA we have already seen that the data is heavily imbalanced. Sampling methods can help to deal with that problem."
   ]
  },
  {
   "cell_type": "code",
   "execution_count": 2,
   "metadata": {},
   "outputs": [
    {
     "name": "stdout",
     "output_type": "stream",
     "text": [
      "(284807, 30)\n"
     ]
    }
   ],
   "source": [
    "data = pd.read_csv(\"../data/creditcard.csv\")\n",
    "X = data.drop('Class', axis=1)\n",
    "y = data['Class']\n",
    "print(X.shape)"
   ]
  },
  {
   "cell_type": "code",
   "execution_count": 3,
   "metadata": {},
   "outputs": [
    {
     "name": "stdout",
     "output_type": "stream",
     "text": [
      "Distribution before sampling:\n",
      "\n",
      "Normal transactions: 99.83 %\n",
      "Fraudulent transactions: 0.17 %\n"
     ]
    }
   ],
   "source": [
    "print(\"Distribution before sampling:\\n\")\n",
    "print(f\"Normal transactions: {round(y.value_counts(normalize = True)[0] * 100, 2)} %\")\n",
    "print(f\"Fraudulent transactions: {round(y.value_counts(normalize = True)[1] * 100, 2)} %\")"
   ]
  },
  {
   "cell_type": "markdown",
   "metadata": {},
   "source": [
    "## SMOTE: Synthetic Minority Over-sampling Technique"
   ]
  },
  {
   "cell_type": "code",
   "execution_count": 4,
   "metadata": {},
   "outputs": [
    {
     "name": "stderr",
     "output_type": "stream",
     "text": [
      "Using TensorFlow backend.\n"
     ]
    }
   ],
   "source": [
    "from imblearn.over_sampling import SMOTE # ref: https://imbalanced-learn.readthedocs.io/"
   ]
  },
  {
   "cell_type": "code",
   "execution_count": 5,
   "metadata": {},
   "outputs": [
    {
     "name": "stdout",
     "output_type": "stream",
     "text": [
      "(568630, 30)\n"
     ]
    }
   ],
   "source": [
    "X_smote, y_smote = SMOTE(sampling_strategy='minority').fit_resample(X, y)\n",
    "print(X_smote.shape)"
   ]
  },
  {
   "cell_type": "code",
   "execution_count": 6,
   "metadata": {},
   "outputs": [
    {
     "name": "stdout",
     "output_type": "stream",
     "text": [
      "Distribution after SMOTE (Oversampling):\n",
      "\n",
      "No fraud: 50.0 %\n",
      "Fraud: 50.0 %\n"
     ]
    }
   ],
   "source": [
    "print(\"Distribution after SMOTE (Oversampling):\\n\")\n",
    "print(f\"No fraud: {round(np.bincount(y_smote)[0]/y_smote.shape[0] * 100, 2)} %\")\n",
    "print(f\"Fraud: {round(np.bincount(y_smote)[1]/y_smote.shape[0] * 100, 2)} %\")"
   ]
  },
  {
   "cell_type": "markdown",
   "metadata": {},
   "source": [
    "Now we have a perfectly balanced dataset with over 500.000 samples."
   ]
  },
  {
   "cell_type": "markdown",
   "metadata": {},
   "source": [
    "## Under-sampling"
   ]
  },
  {
   "cell_type": "code",
   "execution_count": 7,
   "metadata": {},
   "outputs": [
    {
     "name": "stdout",
     "output_type": "stream",
     "text": [
      "(984, 31)\n"
     ]
    }
   ],
   "source": [
    "# Separate fraudulent and normal transactions\n",
    "data_fraud = data[data['Class'] == 1]\n",
    "data_normal = data[data['Class'] == 0]\n",
    "\n",
    "# Sample a sub set of the normal transactions\n",
    "data_normal_sub = data_normal.sample(data_fraud.shape[0])\n",
    "\n",
    "# Merge fraud cases and the normal cases subsample\n",
    "df_sub = pd.concat([data_fraud, data_normal_sub]).sample(frac=1, random_state=seed)\n",
    "print(df_sub.shape)"
   ]
  },
  {
   "cell_type": "code",
   "execution_count": 9,
   "metadata": {},
   "outputs": [
    {
     "name": "stdout",
     "output_type": "stream",
     "text": [
      "Distribution after sub-sampling:\n",
      "\n",
      "Normal transactions: 50.0 %\n",
      "Fraudulent transactions: 50.0 %\n"
     ]
    }
   ],
   "source": [
    "print(\"Distribution after sub-sampling:\\n\")\n",
    "print(f\"Normal transactions: {round(df_sub['Class'].value_counts(normalize = True)[0] * 100, 2)} %\")\n",
    "print(f\"Fraudulent transactions: {round(df_sub['Class'].value_counts(normalize = True)[1] * 100, 2)} %\")"
   ]
  },
  {
   "cell_type": "code",
   "execution_count": null,
   "metadata": {},
   "outputs": [],
   "source": []
  }
 ],
 "metadata": {
  "kernelspec": {
   "display_name": "Python 3",
   "language": "python",
   "name": "python3"
  },
  "language_info": {
   "codemirror_mode": {
    "name": "ipython",
    "version": 3
   },
   "file_extension": ".py",
   "mimetype": "text/x-python",
   "name": "python",
   "nbconvert_exporter": "python",
   "pygments_lexer": "ipython3",
   "version": "3.7.0"
  },
  "toc": {
   "base_numbering": 1,
   "nav_menu": {},
   "number_sections": true,
   "sideBar": true,
   "skip_h1_title": true,
   "title_cell": "Table of Contents",
   "title_sidebar": "Contents",
   "toc_cell": true,
   "toc_position": {},
   "toc_section_display": true,
   "toc_window_display": true
  }
 },
 "nbformat": 4,
 "nbformat_minor": 2
}
