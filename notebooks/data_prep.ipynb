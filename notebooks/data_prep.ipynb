{
 "cells": [
  {
   "cell_type": "code",
   "execution_count": 21,
   "metadata": {},
   "outputs": [],
   "source": [
    "import pandas as pd\n",
    "import numpy as np\n",
    "\n",
    "seed = 42"
   ]
  },
  {
   "cell_type": "code",
   "execution_count": 2,
   "metadata": {},
   "outputs": [
    {
     "name": "stdout",
     "output_type": "stream",
     "text": [
      "Rows: 284807\n",
      "Cols: 31\n"
     ]
    },
    {
     "data": {
      "text/html": [
       "<div>\n",
       "<style scoped>\n",
       "    .dataframe tbody tr th:only-of-type {\n",
       "        vertical-align: middle;\n",
       "    }\n",
       "\n",
       "    .dataframe tbody tr th {\n",
       "        vertical-align: top;\n",
       "    }\n",
       "\n",
       "    .dataframe thead th {\n",
       "        text-align: right;\n",
       "    }\n",
       "</style>\n",
       "<table border=\"1\" class=\"dataframe\">\n",
       "  <thead>\n",
       "    <tr style=\"text-align: right;\">\n",
       "      <th></th>\n",
       "      <th>Time</th>\n",
       "      <th>V1</th>\n",
       "      <th>V2</th>\n",
       "      <th>V3</th>\n",
       "      <th>V4</th>\n",
       "      <th>V5</th>\n",
       "      <th>V6</th>\n",
       "      <th>V7</th>\n",
       "      <th>V8</th>\n",
       "      <th>V9</th>\n",
       "      <th>...</th>\n",
       "      <th>V21</th>\n",
       "      <th>V22</th>\n",
       "      <th>V23</th>\n",
       "      <th>V24</th>\n",
       "      <th>V25</th>\n",
       "      <th>V26</th>\n",
       "      <th>V27</th>\n",
       "      <th>V28</th>\n",
       "      <th>Amount</th>\n",
       "      <th>Class</th>\n",
       "    </tr>\n",
       "  </thead>\n",
       "  <tbody>\n",
       "    <tr>\n",
       "      <th>228910</th>\n",
       "      <td>145715.0</td>\n",
       "      <td>-0.761321</td>\n",
       "      <td>1.942781</td>\n",
       "      <td>-0.049876</td>\n",
       "      <td>4.331920</td>\n",
       "      <td>0.984831</td>\n",
       "      <td>0.275560</td>\n",
       "      <td>1.061439</td>\n",
       "      <td>-1.044702</td>\n",
       "      <td>-2.339929</td>\n",
       "      <td>...</td>\n",
       "      <td>0.997077</td>\n",
       "      <td>0.708025</td>\n",
       "      <td>0.010032</td>\n",
       "      <td>0.097060</td>\n",
       "      <td>-0.275120</td>\n",
       "      <td>0.507611</td>\n",
       "      <td>0.117189</td>\n",
       "      <td>0.257298</td>\n",
       "      <td>36.37</td>\n",
       "      <td>0</td>\n",
       "    </tr>\n",
       "    <tr>\n",
       "      <th>66293</th>\n",
       "      <td>51976.0</td>\n",
       "      <td>-6.174063</td>\n",
       "      <td>4.035894</td>\n",
       "      <td>-0.665882</td>\n",
       "      <td>-0.839733</td>\n",
       "      <td>-1.083737</td>\n",
       "      <td>1.715430</td>\n",
       "      <td>-4.177927</td>\n",
       "      <td>-11.982480</td>\n",
       "      <td>1.075372</td>\n",
       "      <td>...</td>\n",
       "      <td>11.837265</td>\n",
       "      <td>-4.184667</td>\n",
       "      <td>2.399834</td>\n",
       "      <td>0.229601</td>\n",
       "      <td>0.245098</td>\n",
       "      <td>0.424564</td>\n",
       "      <td>0.801378</td>\n",
       "      <td>-0.186094</td>\n",
       "      <td>4.00</td>\n",
       "      <td>0</td>\n",
       "    </tr>\n",
       "    <tr>\n",
       "      <th>223197</th>\n",
       "      <td>143283.0</td>\n",
       "      <td>-0.919911</td>\n",
       "      <td>1.521083</td>\n",
       "      <td>-0.774145</td>\n",
       "      <td>-0.449930</td>\n",
       "      <td>0.815685</td>\n",
       "      <td>-0.780079</td>\n",
       "      <td>0.755754</td>\n",
       "      <td>0.235872</td>\n",
       "      <td>-0.038001</td>\n",
       "      <td>...</td>\n",
       "      <td>0.001561</td>\n",
       "      <td>0.371808</td>\n",
       "      <td>-0.367725</td>\n",
       "      <td>-0.687640</td>\n",
       "      <td>0.016328</td>\n",
       "      <td>0.624137</td>\n",
       "      <td>0.397003</td>\n",
       "      <td>0.220389</td>\n",
       "      <td>19.99</td>\n",
       "      <td>0</td>\n",
       "    </tr>\n",
       "    <tr>\n",
       "      <th>76515</th>\n",
       "      <td>56605.0</td>\n",
       "      <td>0.407557</td>\n",
       "      <td>-1.781199</td>\n",
       "      <td>0.539208</td>\n",
       "      <td>0.330971</td>\n",
       "      <td>-1.289673</td>\n",
       "      <td>0.703315</td>\n",
       "      <td>-0.421889</td>\n",
       "      <td>0.337033</td>\n",
       "      <td>1.120508</td>\n",
       "      <td>...</td>\n",
       "      <td>0.040663</td>\n",
       "      <td>-0.557176</td>\n",
       "      <td>-0.264683</td>\n",
       "      <td>-0.238067</td>\n",
       "      <td>-0.108295</td>\n",
       "      <td>0.938347</td>\n",
       "      <td>-0.102546</td>\n",
       "      <td>0.061343</td>\n",
       "      <td>391.56</td>\n",
       "      <td>0</td>\n",
       "    </tr>\n",
       "    <tr>\n",
       "      <th>54488</th>\n",
       "      <td>46472.0</td>\n",
       "      <td>1.254810</td>\n",
       "      <td>-0.750851</td>\n",
       "      <td>1.073490</td>\n",
       "      <td>-0.740894</td>\n",
       "      <td>-1.342331</td>\n",
       "      <td>-0.045361</td>\n",
       "      <td>-1.158098</td>\n",
       "      <td>0.179733</td>\n",
       "      <td>-0.741235</td>\n",
       "      <td>...</td>\n",
       "      <td>0.485317</td>\n",
       "      <td>1.352401</td>\n",
       "      <td>-0.074393</td>\n",
       "      <td>0.279620</td>\n",
       "      <td>0.307583</td>\n",
       "      <td>-0.052012</td>\n",
       "      <td>0.051451</td>\n",
       "      <td>0.016969</td>\n",
       "      <td>21.99</td>\n",
       "      <td>0</td>\n",
       "    </tr>\n",
       "  </tbody>\n",
       "</table>\n",
       "<p>5 rows × 31 columns</p>\n",
       "</div>"
      ],
      "text/plain": [
       "            Time        V1        V2        V3        V4        V5        V6  \\\n",
       "228910  145715.0 -0.761321  1.942781 -0.049876  4.331920  0.984831  0.275560   \n",
       "66293    51976.0 -6.174063  4.035894 -0.665882 -0.839733 -1.083737  1.715430   \n",
       "223197  143283.0 -0.919911  1.521083 -0.774145 -0.449930  0.815685 -0.780079   \n",
       "76515    56605.0  0.407557 -1.781199  0.539208  0.330971 -1.289673  0.703315   \n",
       "54488    46472.0  1.254810 -0.750851  1.073490 -0.740894 -1.342331 -0.045361   \n",
       "\n",
       "              V7         V8        V9  ...        V21       V22       V23  \\\n",
       "228910  1.061439  -1.044702 -2.339929  ...   0.997077  0.708025  0.010032   \n",
       "66293  -4.177927 -11.982480  1.075372  ...  11.837265 -4.184667  2.399834   \n",
       "223197  0.755754   0.235872 -0.038001  ...   0.001561  0.371808 -0.367725   \n",
       "76515  -0.421889   0.337033  1.120508  ...   0.040663 -0.557176 -0.264683   \n",
       "54488  -1.158098   0.179733 -0.741235  ...   0.485317  1.352401 -0.074393   \n",
       "\n",
       "             V24       V25       V26       V27       V28  Amount  Class  \n",
       "228910  0.097060 -0.275120  0.507611  0.117189  0.257298   36.37      0  \n",
       "66293   0.229601  0.245098  0.424564  0.801378 -0.186094    4.00      0  \n",
       "223197 -0.687640  0.016328  0.624137  0.397003  0.220389   19.99      0  \n",
       "76515  -0.238067 -0.108295  0.938347 -0.102546  0.061343  391.56      0  \n",
       "54488   0.279620  0.307583 -0.052012  0.051451  0.016969   21.99      0  \n",
       "\n",
       "[5 rows x 31 columns]"
      ]
     },
     "execution_count": 2,
     "metadata": {},
     "output_type": "execute_result"
    }
   ],
   "source": [
    "df = pd.read_csv(\"../data/creditcard.csv\")\n",
    "print(f\"Rows: {df.shape[0]}\")\n",
    "print(f\"Cols: {df.shape[1]}\")\n",
    "df.sample(5)"
   ]
  },
  {
   "cell_type": "markdown",
   "metadata": {},
   "source": [
    "## Reducing the dataset\n",
    "\n",
    "Timo mentioned that we do not have to work on the full dataset. Let's draw a sample from the normal cases while keeping all"
   ]
  },
  {
   "cell_type": "code",
   "execution_count": null,
   "metadata": {},
   "outputs": [],
   "source": [
    "# Separate fraudulent and normal transactions\n",
    "df_fraud = df[df['Class'] == 1]\n",
    "df_normal = df[df['Class'] == 0]"
   ]
  },
  {
   "cell_type": "markdown",
   "metadata": {},
   "source": [
    "### Under-sampling"
   ]
  },
  {
   "cell_type": "code",
   "execution_count": 6,
   "metadata": {},
   "outputs": [
    {
     "name": "stdout",
     "output_type": "stream",
     "text": [
      "Number of transactions: 984\n"
     ]
    }
   ],
   "source": [
    "# Sample a sub set of the normal transactions\n",
    "df_normal_sub = df_normal.sample(df_fraud.shape[0])\n",
    "\n",
    "# Merge fraud cases and the normal cases subsample\n",
    "df_under = pd.concat([df_fraud, df_normal_sub]).sample(frac=1, random_state=seed)"
   ]
  },
  {
   "cell_type": "code",
   "execution_count": 13,
   "metadata": {},
   "outputs": [
    {
     "name": "stdout",
     "output_type": "stream",
     "text": [
      "Distribution after Under-sampling:\n",
      "\n",
      "Number of transactions: 984\n",
      "Normal: 50.0 %\n",
      "Fraudulent: 50.0 %\n"
     ]
    }
   ],
   "source": [
    "print(\"Distribution after Under-sampling:\\n\")\n",
    "print(f\"Number of transactions: {df_under.shape[0]}\")\n",
    "print(f\"Normal: {round(df_under['Class'].value_counts(normalize = True)[0] * 100, 2)} %\")\n",
    "print(f\"Fraudulent: {round(df_under['Class'].value_counts(normalize = True)[1] * 100, 2)} %\")"
   ]
  },
  {
   "cell_type": "markdown",
   "metadata": {},
   "source": [
    "### Over-sampling"
   ]
  },
  {
   "cell_type": "code",
   "execution_count": 14,
   "metadata": {},
   "outputs": [
    {
     "name": "stderr",
     "output_type": "stream",
     "text": [
      "C:\\Users\\jaengel\\AppData\\Local\\Continuum\\miniconda3\\envs\\creditcardfraud\\lib\\site-packages\\sklearn\\utils\\deprecation.py:144: FutureWarning: The sklearn.neighbors.base module is  deprecated in version 0.22 and will be removed in version 0.24. The corresponding classes / functions should instead be imported from sklearn.neighbors. Anything that cannot be imported from sklearn.neighbors is now part of the private API.\n",
      "  warnings.warn(message, FutureWarning)\n",
      "C:\\Users\\jaengel\\AppData\\Local\\Continuum\\miniconda3\\envs\\creditcardfraud\\lib\\site-packages\\sklearn\\utils\\deprecation.py:144: FutureWarning: The sklearn.ensemble.bagging module is  deprecated in version 0.22 and will be removed in version 0.24. The corresponding classes / functions should instead be imported from sklearn.ensemble. Anything that cannot be imported from sklearn.ensemble is now part of the private API.\n",
      "  warnings.warn(message, FutureWarning)\n",
      "C:\\Users\\jaengel\\AppData\\Local\\Continuum\\miniconda3\\envs\\creditcardfraud\\lib\\site-packages\\sklearn\\utils\\deprecation.py:144: FutureWarning: The sklearn.ensemble.base module is  deprecated in version 0.22 and will be removed in version 0.24. The corresponding classes / functions should instead be imported from sklearn.ensemble. Anything that cannot be imported from sklearn.ensemble is now part of the private API.\n",
      "  warnings.warn(message, FutureWarning)\n",
      "C:\\Users\\jaengel\\AppData\\Local\\Continuum\\miniconda3\\envs\\creditcardfraud\\lib\\site-packages\\sklearn\\utils\\deprecation.py:144: FutureWarning: The sklearn.ensemble.forest module is  deprecated in version 0.22 and will be removed in version 0.24. The corresponding classes / functions should instead be imported from sklearn.ensemble. Anything that cannot be imported from sklearn.ensemble is now part of the private API.\n",
      "  warnings.warn(message, FutureWarning)\n",
      "Using TensorFlow backend.\n",
      "C:\\Users\\jaengel\\AppData\\Local\\Continuum\\miniconda3\\envs\\creditcardfraud\\lib\\site-packages\\sklearn\\utils\\deprecation.py:144: FutureWarning: The sklearn.utils.testing module is  deprecated in version 0.22 and will be removed in version 0.24. The corresponding classes / functions should instead be imported from sklearn.utils. Anything that cannot be imported from sklearn.utils is now part of the private API.\n",
      "  warnings.warn(message, FutureWarning)\n",
      "C:\\Users\\jaengel\\AppData\\Local\\Continuum\\miniconda3\\envs\\creditcardfraud\\lib\\site-packages\\sklearn\\utils\\deprecation.py:144: FutureWarning: The sklearn.metrics.classification module is  deprecated in version 0.22 and will be removed in version 0.24. The corresponding classes / functions should instead be imported from sklearn.metrics. Anything that cannot be imported from sklearn.metrics is now part of the private API.\n",
      "  warnings.warn(message, FutureWarning)\n"
     ]
    }
   ],
   "source": [
    "from imblearn.over_sampling import SMOTE # ref: https://imbalanced-learn.readthedocs.io/"
   ]
  },
  {
   "cell_type": "code",
   "execution_count": 17,
   "metadata": {},
   "outputs": [],
   "source": [
    "num_normal_transactions = 5000\n",
    "df_normal_smote = df_normal.sample(num_normal_transactions)"
   ]
  },
  {
   "cell_type": "code",
   "execution_count": 23,
   "metadata": {},
   "outputs": [],
   "source": [
    "df_smote_temp = pd.concat([df_fraud, df_normal_smote]).sample(frac=1, random_state=seed)\n",
    "X_smote = df_smote_temp.drop('Class', axis=1)\n",
    "y_smote = df_smote_temp['Class']"
   ]
  },
  {
   "cell_type": "code",
   "execution_count": 28,
   "metadata": {},
   "outputs": [],
   "source": [
    "X_smote, y_smote = SMOTE(sampling_strategy='minority').fit_resample(X_smote, y_smote)"
   ]
  },
  {
   "cell_type": "code",
   "execution_count": 27,
   "metadata": {},
   "outputs": [
    {
     "name": "stdout",
     "output_type": "stream",
     "text": [
      "Distribution after SMOTE (Over-sampling):\n",
      "\n",
      "Number of transactions: 10000\n",
      "Normal: 50.0 %\n",
      "Fraud: 50.0 %\n"
     ]
    }
   ],
   "source": [
    "print(\"Distribution after SMOTE (Over-sampling):\\n\")\n",
    "print(f\"Number of transactions: {X_smote.shape[0]}\")\n",
    "print(f\"Normal: {round(np.bincount(y_smote)[0]/y_smote.shape[0] * 100, 2)} %\")\n",
    "print(f\"Fraud: {round(np.bincount(y_smote)[1]/y_smote.shape[0] * 100, 2)} %\")"
   ]
  },
  {
   "cell_type": "code",
   "execution_count": null,
   "metadata": {},
   "outputs": [],
   "source": []
  }
 ],
 "metadata": {
  "kernelspec": {
   "display_name": "Python [conda env:creditcardfraud]",
   "language": "python",
   "name": "conda-env-creditcardfraud-py"
  },
  "language_info": {
   "codemirror_mode": {
    "name": "ipython",
    "version": 3
   },
   "file_extension": ".py",
   "mimetype": "text/x-python",
   "name": "python",
   "nbconvert_exporter": "python",
   "pygments_lexer": "ipython3",
   "version": "3.7.0"
  },
  "toc": {
   "base_numbering": 1,
   "nav_menu": {},
   "number_sections": true,
   "sideBar": true,
   "skip_h1_title": true,
   "title_cell": "Table of Contents",
   "title_sidebar": "Contents",
   "toc_cell": false,
   "toc_position": {},
   "toc_section_display": true,
   "toc_window_display": false
  }
 },
 "nbformat": 4,
 "nbformat_minor": 2
}
