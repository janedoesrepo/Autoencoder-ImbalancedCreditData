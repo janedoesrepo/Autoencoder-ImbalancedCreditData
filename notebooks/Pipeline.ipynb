{
 "cells": [
  {
   "cell_type": "code",
   "execution_count": 3,
   "metadata": {},
   "outputs": [],
   "source": [
    "import pandas as pd\n",
    "import numpy as np\n",
    "\n",
    "from sklearn.metrics import plot_confusion_matrix, plot_precision_recall_curve\n",
    "from sklearn.metrics import accuracy_score, precision_score, recall_score, f1_score, roc_auc_score\n",
    "from sklearn.linear_model import LogisticRegression\n",
    "from sklearn.preprocessing import StandardScaler\n",
    "from sklearn.model_selection import train_test_split, GridSearchCV, StratifiedKFold\n",
    "\n",
    "from imblearn.pipeline import make_pipeline\n",
    "from imblearn.over_sampling import SMOTE\n",
    "from imblearn.under_sampling import RandomUnderSampler\n",
    "\n",
    "import matplotlib.pyplot as plt\n",
    "\n",
    "from warnings import simplefilter\n",
    "simplefilter(action='ignore', category=FutureWarning)"
   ]
  },
  {
   "cell_type": "code",
   "execution_count": 4,
   "metadata": {},
   "outputs": [],
   "source": [
    "seed = 42"
   ]
  },
  {
   "cell_type": "code",
   "execution_count": 34,
   "metadata": {},
   "outputs": [],
   "source": [
    "def evaluate_model(clf, X_test, y_test, name='Not specified'):\n",
    "    \n",
    "    print(f\"Class distribution in test data:\\nNormal: {len(y_test[y_test==0])}\\nFraud: {len(y_test[y_test==1])}\")\n",
    "    \n",
    "    fig, axes = plt.subplots(1,2, figsize=(20,6))\n",
    "    \n",
    "    # Confusion Matrix\n",
    "    plot_confusion_matrix(clf, X_test, y_test, normalize=None,\n",
    "                          display_labels=['Normal', 'Fraud'], cmap='Greens', ax=axes[0])\n",
    "    axes[0].set_title('Confusion Matrix\\n')\n",
    "    \n",
    "    plot_confusion_matrix(clf, X_test, y_test, normalize='true',\n",
    "                          display_labels=['Normal', 'Fraud'], cmap='Greens', ax=axes[1])\n",
    "    axes[1].set_title('Confusion Matrix\\nnormalized')\n",
    "    \n",
    "    # Precision Recall Curve\n",
    "    plot_precision_recall_curve(clf, X_test, y_test, name=name)\n",
    "    plt.title('Precision Recall Curve')"
   ]
  },
  {
   "cell_type": "markdown",
   "metadata": {},
   "source": [
    "## Data Preparation"
   ]
  },
  {
   "cell_type": "markdown",
   "metadata": {},
   "source": [
    "### Import Dataset"
   ]
  },
  {
   "cell_type": "code",
   "execution_count": 5,
   "metadata": {},
   "outputs": [
    {
     "name": "stdout",
     "output_type": "stream",
     "text": [
      "Rows: 284807\n",
      "Cols: 31\n"
     ]
    }
   ],
   "source": [
    "df = pd.read_csv(\"../data/creditcard.csv\")\n",
    "print(f\"Rows: {df.shape[0]}\")\n",
    "print(f\"Cols: {df.shape[1]}\")"
   ]
  },
  {
   "cell_type": "markdown",
   "metadata": {},
   "source": [
    "### Scale Time and Amount"
   ]
  },
  {
   "cell_type": "code",
   "execution_count": 6,
   "metadata": {},
   "outputs": [],
   "source": [
    "# df.Time = StandardScaler().fit_transform(df.Time.values.reshape(-1, 1))\n",
    "# df.Amount = StandardScaler().fit_transform(df.Amount.values.reshape(-1, 1))"
   ]
  },
  {
   "cell_type": "code",
   "execution_count": 7,
   "metadata": {},
   "outputs": [
    {
     "name": "stdout",
     "output_type": "stream",
     "text": [
      "Scaling Time\n",
      "Scaling V1\n",
      "Scaling V2\n",
      "Scaling V3\n",
      "Scaling V4\n",
      "Scaling V5\n",
      "Scaling V6\n",
      "Scaling V7\n",
      "Scaling V8\n",
      "Scaling V9\n",
      "Scaling V10\n",
      "Scaling V11\n",
      "Scaling V12\n",
      "Scaling V13\n",
      "Scaling V14\n",
      "Scaling V15\n",
      "Scaling V16\n",
      "Scaling V17\n",
      "Scaling V18\n",
      "Scaling V19\n",
      "Scaling V20\n",
      "Scaling V21\n",
      "Scaling V22\n",
      "Scaling V23\n",
      "Scaling V24\n",
      "Scaling V25\n",
      "Scaling V26\n",
      "Scaling V27\n",
      "Scaling V28\n",
      "Scaling Amount\n"
     ]
    }
   ],
   "source": [
    "for col in df.drop('Class', axis=1).columns:\n",
    "    print(f\"Scaling {col}\")\n",
    "    df[col] = StandardScaler().fit_transform(df[col].values.reshape(-1, 1))"
   ]
  },
  {
   "cell_type": "markdown",
   "metadata": {},
   "source": [
    "### Split data to get test set"
   ]
  },
  {
   "cell_type": "code",
   "execution_count": 8,
   "metadata": {},
   "outputs": [],
   "source": [
    "X_orig = df.drop('Class', axis=1)\n",
    "y_orig = df.Class"
   ]
  },
  {
   "cell_type": "markdown",
   "metadata": {},
   "source": [
    "With stratification we make sure to keep the ration of normal and fraudulent transactions"
   ]
  },
  {
   "cell_type": "code",
   "execution_count": 9,
   "metadata": {},
   "outputs": [],
   "source": [
    "X_train, X_test, y_train, y_test = train_test_split(X_orig, y_orig, test_size=0.3,\n",
    "                                                    random_state=seed, stratify=y_orig)"
   ]
  },
  {
   "cell_type": "code",
   "execution_count": 10,
   "metadata": {},
   "outputs": [
    {
     "name": "stdout",
     "output_type": "stream",
     "text": [
      "Train samples: 199364\n",
      "Test samples: 85443\n",
      "Ratio: 0.3000031600346902\n"
     ]
    }
   ],
   "source": [
    "print(f\"Train samples: {y_train.shape[0]}\")\n",
    "print(f\"Test samples: {y_test.shape[0]}\")\n",
    "print(f\"Ratio: {y_test.shape[0]/y_orig.shape[0]}\")"
   ]
  },
  {
   "cell_type": "markdown",
   "metadata": {},
   "source": [
    "## Option 1: Logistic Regression"
   ]
  },
  {
   "cell_type": "markdown",
   "metadata": {},
   "source": [
    "### K-Fold Cross Validation"
   ]
  },
  {
   "cell_type": "code",
   "execution_count": 242,
   "metadata": {},
   "outputs": [],
   "source": [
    "K = 5\n",
    "scoring = 'recall'\n",
    "parameters = {\n",
    "    'C':[0.01, 0.1, 1, 10, 100],\n",
    "    'max_iter':[500]\n",
    "}"
   ]
  },
  {
   "cell_type": "code",
   "execution_count": 243,
   "metadata": {},
   "outputs": [],
   "source": [
    "GSCV_1 = GridSearchCV(LogisticRegression(random_state=seed),\n",
    "                      cv=K, param_grid=parameters, scoring=scoring, n_jobs=-1, verbose=2)"
   ]
  },
  {
   "cell_type": "code",
   "execution_count": 244,
   "metadata": {},
   "outputs": [
    {
     "name": "stdout",
     "output_type": "stream",
     "text": [
      "Fitting 5 folds for each of 5 candidates, totalling 25 fits\n"
     ]
    },
    {
     "name": "stderr",
     "output_type": "stream",
     "text": [
      "[Parallel(n_jobs=-1)]: Using backend LokyBackend with 4 concurrent workers.\n",
      "[Parallel(n_jobs=-1)]: Done  25 out of  25 | elapsed:   31.0s finished\n"
     ]
    },
    {
     "data": {
      "text/plain": [
       "GridSearchCV(cv=5, error_score=nan,\n",
       "             estimator=LogisticRegression(C=1.0, class_weight=None, dual=False,\n",
       "                                          fit_intercept=True,\n",
       "                                          intercept_scaling=1, l1_ratio=None,\n",
       "                                          max_iter=100, multi_class='auto',\n",
       "                                          n_jobs=None, penalty='l2',\n",
       "                                          random_state=42, solver='lbfgs',\n",
       "                                          tol=0.0001, verbose=0,\n",
       "                                          warm_start=False),\n",
       "             iid='deprecated', n_jobs=-1,\n",
       "             param_grid={'C': [0.01, 0.1, 1, 10, 100], 'max_iter': [500]},\n",
       "             pre_dispatch='2*n_jobs', refit=True, return_train_score=False,\n",
       "             scoring='recall', verbose=2)"
      ]
     },
     "execution_count": 244,
     "metadata": {},
     "output_type": "execute_result"
    }
   ],
   "source": [
    "GSCV_1.fit(X_train, y_train)"
   ]
  },
  {
   "cell_type": "code",
   "execution_count": 245,
   "metadata": {},
   "outputs": [],
   "source": [
    "clf_1 = GSCV_1.best_estimator_"
   ]
  },
  {
   "cell_type": "code",
   "execution_count": 246,
   "metadata": {},
   "outputs": [
    {
     "data": {
      "text/plain": [
       "0.6480392156862745"
      ]
     },
     "execution_count": 246,
     "metadata": {},
     "output_type": "execute_result"
    }
   ],
   "source": [
    "GSCV_1.best_score_"
   ]
  },
  {
   "cell_type": "markdown",
   "metadata": {},
   "source": [
    "### Evaluate Model on test set"
   ]
  },
  {
   "cell_type": "code",
   "execution_count": 286,
   "metadata": {},
   "outputs": [
    {
     "name": "stdout",
     "output_type": "stream",
     "text": [
      "Class distribution in test data:\n",
      "Normal: 85295\n",
      "Fraud: 148\n"
     ]
    },
    {
     "data": {
      "image/png": "[encoded data removed]",
      "text/plain": [
       "<Figure size 1440x432 with 4 Axes>"
      ]
     },
     "metadata": {
      "needs_background": "light"
     },
     "output_type": "display_data"
    },
    {
     "data": {
      "image/png": "[encoded data removed]",
      "text/plain": [
       "<Figure size 432x288 with 1 Axes>"
      ]
     },
     "metadata": {
      "needs_background": "light"
     },
     "output_type": "display_data"
    }
   ],
   "source": [
    "evaluate_model(clf_1, X_test, y_test, 'LogisticRegression')"
   ]
  },
  {
   "cell_type": "markdown",
   "metadata": {},
   "source": [
    "## Option 2: Autoencoder + Logistic Regression"
   ]
  },
  {
   "cell_type": "markdown",
   "metadata": {},
   "source": [
    "### Randomly select a subset of normal transcations for the Autoencoder training"
   ]
  },
  {
   "cell_type": "code",
   "execution_count": 117,
   "metadata": {},
   "outputs": [
    {
     "data": {
      "text/plain": [
       "(199020, 30)"
      ]
     },
     "execution_count": 117,
     "metadata": {},
     "output_type": "execute_result"
    }
   ],
   "source": [
    "X_train_norm = X_train[y_train == 0]\n",
    "X_train_norm.shape"
   ]
  },
  {
   "cell_type": "code",
   "execution_count": 118,
   "metadata": {},
   "outputs": [
    {
     "data": {
      "text/plain": [
       "(49755, 30)"
      ]
     },
     "execution_count": 118,
     "metadata": {},
     "output_type": "execute_result"
    }
   ],
   "source": [
    "X_train_AE = X_train_norm.sample(frac=0.25, random_state=seed)\n",
    "X_train_AE.shape"
   ]
  },
  {
   "cell_type": "code",
   "execution_count": 119,
   "metadata": {},
   "outputs": [],
   "source": [
    "# Remove AE samples from classifier training data\n",
    "X_train_clf = X_train.drop(X_train_AE.index)\n",
    "y_train_clf = y_train.drop(X_train_AE.index)"
   ]
  },
  {
   "cell_type": "markdown",
   "metadata": {},
   "source": [
    "### Train Autoencoder"
   ]
  },
  {
   "cell_type": "code",
   "execution_count": 120,
   "metadata": {},
   "outputs": [
    {
     "name": "stdout",
     "output_type": "stream",
     "text": [
      "2.0.0\n"
     ]
    }
   ],
   "source": [
    "import tensorflow as tf\n",
    "from tensorflow.keras.layers import Input, Dense\n",
    "from tensorflow.keras.models import Model, Sequential\n",
    "from tensorflow.keras import regularizers\n",
    "\n",
    "print(tf.__version__)"
   ]
  },
  {
   "cell_type": "code",
   "execution_count": 140,
   "metadata": {},
   "outputs": [],
   "source": [
    "input_dim = X_train_AE.shape[1]\n",
    "\n",
    "## input layer \n",
    "input_layer = Input(shape=(input_dim,)) # num_features\n",
    "\n",
    "## encoding part\n",
    "encoded = Dense(500, activation='tanh', activity_regularizer=regularizers.l1(10e-5))(input_layer)\n",
    "encoded = Dense(250, activation='relu')(encoded)\n",
    "encoded = Dense(5, activation='relu')(encoded)\n",
    "\n",
    "## decoding part\n",
    "decoded = Dense(10, activation='tanh')(encoded)\n",
    "decoded = Dense(20, activation='tanh')(decoded)\n",
    "\n",
    "## output layer\n",
    "output_layer = Dense(input_dim, activation='relu')(decoded)"
   ]
  },
  {
   "cell_type": "code",
   "execution_count": 141,
   "metadata": {},
   "outputs": [],
   "source": [
    "autoencoder = Model(input_layer, output_layer)\n",
    "autoencoder.compile(learning_rate=0.002,\n",
    "                    optimizer=\"adadelta\", loss=\"mse\")"
   ]
  },
  {
   "cell_type": "code",
   "execution_count": 142,
   "metadata": {},
   "outputs": [
    {
     "name": "stdout",
     "output_type": "stream",
     "text": [
      "Model: \"model_8\"\n",
      "_________________________________________________________________\n",
      "Layer (type)                 Output Shape              Param #   \n",
      "=================================================================\n",
      "input_7 (InputLayer)         [(None, 30)]              0         \n",
      "_________________________________________________________________\n",
      "dense_36 (Dense)             (None, 500)               15500     \n",
      "_________________________________________________________________\n",
      "dense_37 (Dense)             (None, 250)               125250    \n",
      "_________________________________________________________________\n",
      "dense_38 (Dense)             (None, 5)                 1255      \n",
      "_________________________________________________________________\n",
      "dense_39 (Dense)             (None, 10)                60        \n",
      "_________________________________________________________________\n",
      "dense_40 (Dense)             (None, 20)                220       \n",
      "_________________________________________________________________\n",
      "dense_41 (Dense)             (None, 30)                630       \n",
      "=================================================================\n",
      "Total params: 142,915\n",
      "Trainable params: 142,915\n",
      "Non-trainable params: 0\n",
      "_________________________________________________________________\n"
     ]
    }
   ],
   "source": [
    "autoencoder.summary()"
   ]
  },
  {
   "cell_type": "code",
   "execution_count": 143,
   "metadata": {
    "scrolled": true
   },
   "outputs": [
    {
     "name": "stdout",
     "output_type": "stream",
     "text": [
      "Train on 39804 samples, validate on 9951 samples\n",
      "Epoch 1/100\n",
      "39804/39804 [==============================] - 5s 134us/sample - loss: 0.9949 - val_loss: 1.0455\n",
      "Epoch 2/100\n",
      "39804/39804 [==============================] - 4s 100us/sample - loss: 0.9900 - val_loss: 1.0407\n",
      "Epoch 3/100\n",
      "39804/39804 [==============================] - 4s 99us/sample - loss: 0.9856 - val_loss: 1.0364\n",
      "Epoch 4/100\n",
      "39804/39804 [==============================] - 4s 113us/sample - loss: 0.9817 - val_loss: 1.0325\n",
      "Epoch 5/100\n",
      "39804/39804 [==============================] - 5s 129us/sample - loss: 0.9784 - val_loss: 1.0292\n",
      "Epoch 6/100\n",
      "39804/39804 [==============================] - 4s 109us/sample - loss: 0.9754 - val_loss: 1.0262\n",
      "Epoch 7/100\n",
      "39804/39804 [==============================] - 5s 116us/sample - loss: 0.9728 - val_loss: 1.0235\n",
      "Epoch 8/100\n",
      "39804/39804 [==============================] - 5s 119us/sample - loss: 0.9703 - val_loss: 1.0211\n",
      "Epoch 9/100\n",
      "39804/39804 [==============================] - 4s 108us/sample - loss: 0.9681 - val_loss: 1.0189\n",
      "Epoch 10/100\n",
      "39804/39804 [==============================] - 5s 116us/sample - loss: 0.9661 - val_loss: 1.0169\n",
      "Epoch 11/100\n",
      "39804/39804 [==============================] - 4s 109us/sample - loss: 0.9642 - val_loss: 1.0150\n",
      "Epoch 12/100\n",
      "39804/39804 [==============================] - 5s 124us/sample - loss: 0.9625 - val_loss: 1.0133\n",
      "Epoch 13/100\n",
      "39804/39804 [==============================] - 4s 113us/sample - loss: 0.9609 - val_loss: 1.0117\n",
      "Epoch 14/100\n",
      "39804/39804 [==============================] - 4s 112us/sample - loss: 0.9593 - val_loss: 1.0101\n",
      "Epoch 15/100\n",
      "39804/39804 [==============================] - 5s 125us/sample - loss: 0.9579 - val_loss: 1.0087\n",
      "Epoch 16/100\n",
      "39804/39804 [==============================] - 4s 112us/sample - loss: 0.9566 - val_loss: 1.0074\n",
      "Epoch 17/100\n",
      "39804/39804 [==============================] - 5s 115us/sample - loss: 0.9553 - val_loss: 1.0061\n",
      "Epoch 18/100\n",
      "39804/39804 [==============================] - 5s 127us/sample - loss: 0.9541 - val_loss: 1.0049\n",
      "Epoch 19/100\n",
      "39804/39804 [==============================] - 4s 100us/sample - loss: 0.9530 - val_loss: 1.0038\n",
      "Epoch 20/100\n",
      "39804/39804 [==============================] - 5s 124us/sample - loss: 0.9519 - val_loss: 1.0028\n",
      "Epoch 21/100\n",
      "39804/39804 [==============================] - 5s 118us/sample - loss: 0.9509 - val_loss: 1.0018\n",
      "Epoch 22/100\n",
      "39804/39804 [==============================] - 4s 107us/sample - loss: 0.9500 - val_loss: 1.0008\n",
      "Epoch 23/100\n",
      "39804/39804 [==============================] - 5s 126us/sample - loss: 0.9490 - val_loss: 0.9999\n",
      "Epoch 24/100\n",
      "39804/39804 [==============================] - 5s 115us/sample - loss: 0.9481 - val_loss: 0.9990\n",
      "Epoch 25/100\n",
      "39804/39804 [==============================] - 4s 113us/sample - loss: 0.9473 - val_loss: 0.9982\n",
      "Epoch 26/100\n",
      "39804/39804 [==============================] - 5s 121us/sample - loss: 0.9465 - val_loss: 0.9974\n",
      "Epoch 27/100\n",
      "39804/39804 [==============================] - 5s 124us/sample - loss: 0.9457 - val_loss: 0.9966\n",
      "Epoch 28/100\n",
      "39804/39804 [==============================] - 5s 125us/sample - loss: 0.9450 - val_loss: 0.9959\n",
      "Epoch 29/100\n",
      "39804/39804 [==============================] - 5s 125us/sample - loss: 0.9442 - val_loss: 0.9952\n",
      "Epoch 30/100\n",
      "39804/39804 [==============================] - 5s 121us/sample - loss: 0.9435 - val_loss: 0.9945\n",
      "Epoch 31/100\n",
      "39804/39804 [==============================] - 6s 140us/sample - loss: 0.9429 - val_loss: 0.9938\n",
      "Epoch 32/100\n",
      "39804/39804 [==============================] - 6s 152us/sample - loss: 0.9422 - val_loss: 0.9931\n",
      "Epoch 33/100\n",
      "39804/39804 [==============================] - 5s 130us/sample - loss: 0.9416 - val_loss: 0.9925\n",
      "Epoch 34/100\n",
      "39804/39804 [==============================] - 5s 117us/sample - loss: 0.9409 - val_loss: 0.9919\n",
      "Epoch 35/100\n",
      "39804/39804 [==============================] - 5s 138us/sample - loss: 0.9403 - val_loss: 0.9913\n",
      "Epoch 36/100\n",
      "39804/39804 [==============================] - 6s 140us/sample - loss: 0.9398 - val_loss: 0.9907\n",
      "Epoch 37/100\n",
      "39804/39804 [==============================] - 5s 114us/sample - loss: 0.9392 - val_loss: 0.9901\n",
      "Epoch 38/100\n",
      "39804/39804 [==============================] - 5s 127us/sample - loss: 0.9386 - val_loss: 0.9896\n",
      "Epoch 39/100\n",
      "39804/39804 [==============================] - 5s 131us/sample - loss: 0.9381 - val_loss: 0.9890\n",
      "Epoch 40/100\n",
      "39804/39804 [==============================] - 5s 118us/sample - loss: 0.9376 - val_loss: 0.9885\n",
      "Epoch 41/100\n",
      "39804/39804 [==============================] - 5s 123us/sample - loss: 0.9370 - val_loss: 0.9880\n",
      "Epoch 42/100\n",
      "39804/39804 [==============================] - 5s 127us/sample - loss: 0.9365 - val_loss: 0.9875\n",
      "Epoch 43/100\n",
      "39804/39804 [==============================] - 5s 137us/sample - loss: 0.9360 - val_loss: 0.9870\n",
      "Epoch 44/100\n",
      "39804/39804 [==============================] - 5s 129us/sample - loss: 0.9355 - val_loss: 0.9865\n",
      "Epoch 45/100\n",
      "39804/39804 [==============================] - 6s 160us/sample - loss: 0.9351 - val_loss: 0.9860\n",
      "Epoch 46/100\n",
      "39804/39804 [==============================] - 5s 124us/sample - loss: 0.9346 - val_loss: 0.9856\n",
      "Epoch 47/100\n",
      "39804/39804 [==============================] - 6s 143us/sample - loss: 0.9342 - val_loss: 0.9851\n",
      "Epoch 48/100\n",
      "39804/39804 [==============================] - 6s 143us/sample - loss: 0.9337 - val_loss: 0.9847\n",
      "Epoch 49/100\n",
      "39804/39804 [==============================] - 5s 131us/sample - loss: 0.9333 - val_loss: 0.9842\n",
      "Epoch 50/100\n",
      "39804/39804 [==============================] - 5s 136us/sample - loss: 0.9328 - val_loss: 0.9838\n",
      "Epoch 51/100\n",
      "39804/39804 [==============================] - 6s 145us/sample - loss: 0.9324 - val_loss: 0.9834\n",
      "Epoch 52/100\n",
      "39804/39804 [==============================] - 5s 125us/sample - loss: 0.9320 - val_loss: 0.9830\n",
      "Epoch 53/100\n",
      "39804/39804 [==============================] - 6s 144us/sample - loss: 0.9316 - val_loss: 0.9826\n",
      "Epoch 54/100\n",
      "39804/39804 [==============================] - 6s 148us/sample - loss: 0.9312 - val_loss: 0.9821\n",
      "Epoch 55/100\n",
      "39804/39804 [==============================] - 5s 132us/sample - loss: 0.9308 - val_loss: 0.9817\n",
      "Epoch 56/100\n",
      "39804/39804 [==============================] - 5s 129us/sample - loss: 0.9304 - val_loss: 0.9814\n",
      "Epoch 57/100\n",
      "39804/39804 [==============================] - 4s 112us/sample - loss: 0.9300 - val_loss: 0.9810\n",
      "Epoch 58/100\n",
      "39804/39804 [==============================] - 5s 131us/sample - loss: 0.9296 - val_loss: 0.9806\n",
      "Epoch 59/100\n",
      "39804/39804 [==============================] - 5s 121us/sample - loss: 0.9293 - val_loss: 0.9802\n",
      "Epoch 60/100\n",
      "39804/39804 [==============================] - 5s 135us/sample - loss: 0.9289 - val_loss: 0.9798\n",
      "Epoch 61/100\n",
      "39804/39804 [==============================] - 6s 148us/sample - loss: 0.9285 - val_loss: 0.9795\n",
      "Epoch 62/100\n",
      "39804/39804 [==============================] - 6s 139us/sample - loss: 0.9282 - val_loss: 0.9791\n",
      "Epoch 63/100\n",
      "39804/39804 [==============================] - 5s 121us/sample - loss: 0.9278 - val_loss: 0.9788\n",
      "Epoch 64/100\n",
      "39804/39804 [==============================] - 6s 147us/sample - loss: 0.9275 - val_loss: 0.9784\n",
      "Epoch 65/100\n",
      "39804/39804 [==============================] - 5s 132us/sample - loss: 0.9271 - val_loss: 0.9781\n",
      "Epoch 66/100\n",
      "39804/39804 [==============================] - 5s 138us/sample - loss: 0.9268 - val_loss: 0.9777\n",
      "Epoch 67/100\n",
      "39804/39804 [==============================] - 5s 132us/sample - loss: 0.9264 - val_loss: 0.9774\n",
      "Epoch 68/100\n",
      "39804/39804 [==============================] - 5s 135us/sample - loss: 0.9261 - val_loss: 0.9770\n",
      "Epoch 69/100\n",
      "39804/39804 [==============================] - 5s 138us/sample - loss: 0.9257 - val_loss: 0.9767\n",
      "Epoch 70/100\n",
      "39804/39804 [==============================] - 6s 139us/sample - loss: 0.9254 - val_loss: 0.9764\n",
      "Epoch 71/100\n",
      "39804/39804 [==============================] - 5s 127us/sample - loss: 0.9251 - val_loss: 0.9760\n",
      "Epoch 72/100\n",
      "39804/39804 [==============================] - 6s 155us/sample - loss: 0.9248 - val_loss: 0.9757\n",
      "Epoch 73/100\n",
      "39804/39804 [==============================] - 5s 138us/sample - loss: 0.9244 - val_loss: 0.9754\n",
      "Epoch 74/100\n",
      "39804/39804 [==============================] - 4s 106us/sample - loss: 0.9241 - val_loss: 0.9750\n",
      "Epoch 75/100\n",
      "39804/39804 [==============================] - 5s 123us/sample - loss: 0.9238 - val_loss: 0.9747\n",
      "Epoch 76/100\n",
      "39804/39804 [==============================] - 4s 102us/sample - loss: 0.9235 - val_loss: 0.9744\n",
      "Epoch 77/100\n",
      "39804/39804 [==============================] - 4s 105us/sample - loss: 0.9232 - val_loss: 0.9741\n",
      "Epoch 78/100\n",
      "39804/39804 [==============================] - 5s 122us/sample - loss: 0.9229 - val_loss: 0.9738\n",
      "Epoch 79/100\n",
      "39804/39804 [==============================] - 4s 101us/sample - loss: 0.9226 - val_loss: 0.9735\n",
      "Epoch 80/100\n",
      "39804/39804 [==============================] - 4s 106us/sample - loss: 0.9222 - val_loss: 0.9732\n",
      "Epoch 81/100\n",
      "39804/39804 [==============================] - 5s 123us/sample - loss: 0.9219 - val_loss: 0.9729\n",
      "Epoch 82/100\n",
      "39804/39804 [==============================] - 4s 100us/sample - loss: 0.9216 - val_loss: 0.9726\n",
      "Epoch 83/100\n",
      "39804/39804 [==============================] - 5s 138us/sample - loss: 0.9213 - val_loss: 0.9723\n",
      "Epoch 84/100\n",
      "39804/39804 [==============================] - 5s 131us/sample - loss: 0.9210 - val_loss: 0.9720\n",
      "Epoch 85/100\n",
      "39804/39804 [==============================] - 4s 103us/sample - loss: 0.9207 - val_loss: 0.9717\n",
      "Epoch 86/100\n",
      "39804/39804 [==============================] - 5s 129us/sample - loss: 0.9204 - val_loss: 0.9714\n",
      "Epoch 87/100\n",
      "39804/39804 [==============================] - 4s 107us/sample - loss: 0.9201 - val_loss: 0.9711\n",
      "Epoch 88/100\n",
      "39804/39804 [==============================] - 5s 120us/sample - loss: 0.9199 - val_loss: 0.9708\n",
      "Epoch 89/100\n",
      "39804/39804 [==============================] - 6s 150us/sample - loss: 0.9196 - val_loss: 0.9705\n",
      "Epoch 90/100\n",
      "39804/39804 [==============================] - 5s 135us/sample - loss: 0.9193 - val_loss: 0.9702\n",
      "Epoch 91/100\n",
      "39804/39804 [==============================] - 5s 117us/sample - loss: 0.9190 - val_loss: 0.9699\n",
      "Epoch 92/100\n",
      "39804/39804 [==============================] - 5s 127us/sample - loss: 0.9187 - val_loss: 0.9696\n",
      "Epoch 93/100\n",
      "39804/39804 [==============================] - 5s 127us/sample - loss: 0.9184 - val_loss: 0.9693\n",
      "Epoch 94/100\n",
      "39804/39804 [==============================] - 5s 127us/sample - loss: 0.9181 - val_loss: 0.9690\n",
      "Epoch 95/100\n",
      "39804/39804 [==============================] - 6s 142us/sample - loss: 0.9178 - val_loss: 0.9688\n",
      "Epoch 96/100\n",
      "39804/39804 [==============================] - 4s 107us/sample - loss: 0.9176 - val_loss: 0.9685\n",
      "Epoch 97/100\n",
      "39804/39804 [==============================] - 5s 126us/sample - loss: 0.9173 - val_loss: 0.9682\n",
      "Epoch 98/100\n",
      "39804/39804 [==============================] - 6s 147us/sample - loss: 0.9170 - val_loss: 0.9679\n",
      "Epoch 99/100\n",
      "39804/39804 [==============================] - 5s 138us/sample - loss: 0.9167 - val_loss: 0.9676\n",
      "Epoch 100/100\n",
      "39804/39804 [==============================] - 5s 138us/sample - loss: 0.9164 - val_loss: 0.9673\n"
     ]
    }
   ],
   "source": [
    "autoencoder.fit(X_train_AE.values, X_train_AE.values, \n",
    "                batch_size=64, epochs=100, \n",
    "                shuffle=True, validation_split=0.20);"
   ]
  },
  {
   "cell_type": "markdown",
   "metadata": {},
   "source": [
    "### Latent representation"
   ]
  },
  {
   "cell_type": "code",
   "execution_count": 144,
   "metadata": {},
   "outputs": [],
   "source": [
    "hidden_representation = Sequential()\n",
    "hidden_representation.add(autoencoder.layers[0])\n",
    "hidden_representation.add(autoencoder.layers[1])\n",
    "hidden_representation.add(autoencoder.layers[2])\n",
    "\n",
    "def extract_latent(data):\n",
    "    return hidden_representation.predict(data)"
   ]
  },
  {
   "cell_type": "code",
   "execution_count": 145,
   "metadata": {},
   "outputs": [],
   "source": [
    "X_train_clf_lat = extract_latent(X_train_clf)"
   ]
  },
  {
   "cell_type": "markdown",
   "metadata": {},
   "source": [
    "### Logistic Regression"
   ]
  },
  {
   "cell_type": "code",
   "execution_count": 14,
   "metadata": {},
   "outputs": [],
   "source": [
    "K = 5\n",
    "scoring = 'recall'\n",
    "parameters = {\n",
    "    'C':[0.01, 0.1, 1, 10, 100],\n",
    "    'max_iter':[500]\n",
    "}"
   ]
  },
  {
   "cell_type": "code",
   "execution_count": 147,
   "metadata": {},
   "outputs": [],
   "source": [
    "GSCV_2 = GridSearchCV(LogisticRegression(random_state=seed),\n",
    "                      cv=K, param_grid=parameters, scoring=scoring, n_jobs=-1, verbose=2)"
   ]
  },
  {
   "cell_type": "code",
   "execution_count": 148,
   "metadata": {},
   "outputs": [
    {
     "name": "stdout",
     "output_type": "stream",
     "text": [
      "Fitting 5 folds for each of 5 candidates, totalling 25 fits\n"
     ]
    },
    {
     "name": "stderr",
     "output_type": "stream",
     "text": [
      "[Parallel(n_jobs=-1)]: Using backend LokyBackend with 4 concurrent workers.\n",
      "[Parallel(n_jobs=-1)]: Done  25 out of  25 | elapsed:  3.9min finished\n"
     ]
    },
    {
     "data": {
      "text/plain": [
       "GridSearchCV(cv=5, error_score=nan,\n",
       "             estimator=LogisticRegression(C=1.0, class_weight=None, dual=False,\n",
       "                                          fit_intercept=True,\n",
       "                                          intercept_scaling=1, l1_ratio=None,\n",
       "                                          max_iter=100, multi_class='auto',\n",
       "                                          n_jobs=None, penalty='l2',\n",
       "                                          random_state=42, solver='lbfgs',\n",
       "                                          tol=0.0001, verbose=0,\n",
       "                                          warm_start=False),\n",
       "             iid='deprecated', n_jobs=-1,\n",
       "             param_grid={'C': [0.01, 0.1, 1, 10, 100], 'max_iter': [500]},\n",
       "             pre_dispatch='2*n_jobs', refit=True, return_train_score=False,\n",
       "             scoring='recall', verbose=2)"
      ]
     },
     "execution_count": 148,
     "metadata": {},
     "output_type": "execute_result"
    }
   ],
   "source": [
    "GSCV_2.fit(X_train_clf_lat, y_train_clf)"
   ]
  },
  {
   "cell_type": "code",
   "execution_count": 149,
   "metadata": {},
   "outputs": [],
   "source": [
    "clf_2 = GSCV_2.best_estimator_"
   ]
  },
  {
   "cell_type": "code",
   "execution_count": 150,
   "metadata": {},
   "outputs": [
    {
     "data": {
      "text/plain": [
       "0.7964194373401534"
      ]
     },
     "execution_count": 150,
     "metadata": {},
     "output_type": "execute_result"
    }
   ],
   "source": [
    "GSCV_2.best_score_"
   ]
  },
  {
   "cell_type": "markdown",
   "metadata": {},
   "source": [
    "### Evaluate on test set"
   ]
  },
  {
   "cell_type": "code",
   "execution_count": 151,
   "metadata": {},
   "outputs": [],
   "source": [
    "X_test_lat = extract_latent(X_test)"
   ]
  },
  {
   "cell_type": "code",
   "execution_count": 152,
   "metadata": {},
   "outputs": [
    {
     "data": {
      "image/png": "[encoded data removed]",
      "text/plain": [
       "<Figure size 1440x432 with 3 Axes>"
      ]
     },
     "metadata": {
      "needs_background": "light"
     },
     "output_type": "display_data"
    }
   ],
   "source": [
    "evaluate_model(clf_2, X_test_lat, y_test, 'AE + LogisticRegression')"
   ]
  },
  {
   "cell_type": "markdown",
   "metadata": {},
   "source": [
    "## Option 3: Over-sampling + Logistic Regression"
   ]
  },
  {
   "cell_type": "code",
   "execution_count": 305,
   "metadata": {},
   "outputs": [],
   "source": [
    "def manual_cv(sampler, log_reg_params):\n",
    "    \n",
    "    SKF = StratifiedKFold(n_splits=5, random_state=seed, shuffle=True)\n",
    "    \n",
    "    avg_accuracy_scores = []\n",
    "    avg_recall_scores = []\n",
    "    avg_f1_scores = []\n",
    "\n",
    "    for C in log_reg_params['C']:\n",
    "\n",
    "        accuracy_scores = []\n",
    "        recall_scores = []\n",
    "        f1_scores = []\n",
    "\n",
    "        for train_index, val_index in SKF.split(X_train, y_train):\n",
    "\n",
    "            # Sample each train_split separately\n",
    "            X_sampled, y_sampled = sampler.fit_resample(X_train.iloc[train_index], y_train.iloc[train_index])\n",
    "\n",
    "            # Train Classifier\n",
    "            # TODO: Add parameters\n",
    "            clf = LogisticRegression(random_state=seed, C=C, max_iter=500).fit(X_sampled, y_sampled)\n",
    "\n",
    "            # Validate model\n",
    "            X_val, y_val = X_train.iloc[val_index], y_train.iloc[val_index]\n",
    "            y_pred = clf.predict(X_val)\n",
    "\n",
    "            recall_scores.append(recall_score(y_val, y_pred))\n",
    "            accuracy_scores.append(accuracy_score(y_val, y_pred))\n",
    "            f1_scores.append(f1_score(y_val, y_pred))\n",
    "\n",
    "        print(f\"Tested model with C = {C}\")\n",
    "        print(f\"Mean accuracy:\\t {np.mean(accuracy_scores)}\")\n",
    "        print(f\"Mean recall:\\t {np.mean(recall_scores)}\")\n",
    "        print(f\"Mean f1-score:\\t {np.mean(f1_scores)}\")\n",
    "        print()\n",
    "\n",
    "        avg_accuracy_scores.append(np.mean(accuracy_scores))\n",
    "        avg_recall_scores.append(np.mean(recall_scores))\n",
    "        avg_f1_scores.append(np.mean(f1_scores))\n",
    "        \n",
    "    return avg_accuracy_scores, avg_recall_scores, avg_f1_scores"
   ]
  },
  {
   "cell_type": "markdown",
   "metadata": {},
   "source": [
    "### Cross Validation"
   ]
  },
  {
   "cell_type": "code",
   "execution_count": 28,
   "metadata": {},
   "outputs": [],
   "source": [
    "parameters = {\n",
    "    'classification__C':[0.01, 0.1, 1, 10, 100],\n",
    "    'classification__max_iter':[500]\n",
    "}"
   ]
  },
  {
   "cell_type": "code",
   "execution_count": 313,
   "metadata": {},
   "outputs": [],
   "source": [
    "smote = SMOTE(sampling_strategy='minority', random_state=seed)"
   ]
  },
  {
   "cell_type": "code",
   "execution_count": 201,
   "metadata": {},
   "outputs": [
    {
     "name": "stderr",
     "output_type": "stream",
     "text": [
      "D:\\Miniconda3\\envs\\creditcardfraud\\lib\\site-packages\\sklearn\\utils\\deprecation.py:87: FutureWarning: Function safe_indexing is deprecated; safe_indexing is deprecated in version 0.22 and will be removed in version 0.24.\n",
      "  warnings.warn(msg, category=FutureWarning)\n",
      "D:\\Miniconda3\\envs\\creditcardfraud\\lib\\site-packages\\sklearn\\utils\\deprecation.py:87: FutureWarning: Function safe_indexing is deprecated; safe_indexing is deprecated in version 0.22 and will be removed in version 0.24.\n",
      "  warnings.warn(msg, category=FutureWarning)\n",
      "D:\\Miniconda3\\envs\\creditcardfraud\\lib\\site-packages\\sklearn\\utils\\deprecation.py:87: FutureWarning: Function safe_indexing is deprecated; safe_indexing is deprecated in version 0.22 and will be removed in version 0.24.\n",
      "  warnings.warn(msg, category=FutureWarning)\n",
      "D:\\Miniconda3\\envs\\creditcardfraud\\lib\\site-packages\\sklearn\\utils\\deprecation.py:87: FutureWarning: Function safe_indexing is deprecated; safe_indexing is deprecated in version 0.22 and will be removed in version 0.24.\n",
      "  warnings.warn(msg, category=FutureWarning)\n",
      "D:\\Miniconda3\\envs\\creditcardfraud\\lib\\site-packages\\sklearn\\utils\\deprecation.py:87: FutureWarning: Function safe_indexing is deprecated; safe_indexing is deprecated in version 0.22 and will be removed in version 0.24.\n",
      "  warnings.warn(msg, category=FutureWarning)\n"
     ]
    },
    {
     "name": "stdout",
     "output_type": "stream",
     "text": [
      "---------------------------------------------------------------------------------------------------------------------------------------\n",
      "\n",
      "accuracy: 0.9773830752677874\n",
      "precision: 0.06607987411095777\n",
      "recall: 0.918542199488491\n",
      "f1: 0.12326782602059642\n",
      "---------------------------------------------------------------------------------------------------------------------------------------\n"
     ]
    }
   ],
   "source": [
    "avg_accuracy_scores, avg_recall_scores, avg_f1_scores = manual_cv(smote, parameters)"
   ]
  },
  {
   "cell_type": "code",
   "execution_count": 11,
   "metadata": {},
   "outputs": [],
   "source": [
    "from imblearn.pipeline import Pipeline"
   ]
  },
  {
   "cell_type": "code",
   "execution_count": 29,
   "metadata": {},
   "outputs": [],
   "source": [
    "model = Pipeline([\n",
    "        ('sampling', SMOTE(sampling_strategy='minority', random_state=seed)),\n",
    "        ('classification', LogisticRegression(random_state=seed))\n",
    "    ])"
   ]
  },
  {
   "cell_type": "code",
   "execution_count": 42,
   "metadata": {},
   "outputs": [],
   "source": [
    "GSCV_3 = GridSearchCV(model,\n",
    "                      cv=K, param_grid=parameters, scoring='f1', n_jobs=-1, verbose=2)"
   ]
  },
  {
   "cell_type": "code",
   "execution_count": 43,
   "metadata": {},
   "outputs": [
    {
     "name": "stdout",
     "output_type": "stream",
     "text": [
      "Fitting 5 folds for each of 5 candidates, totalling 25 fits\n"
     ]
    },
    {
     "name": "stderr",
     "output_type": "stream",
     "text": [
      "[Parallel(n_jobs=-1)]: Using backend LokyBackend with 4 concurrent workers.\n",
      "[Parallel(n_jobs=-1)]: Done  25 out of  25 | elapsed:  2.6min finished\n"
     ]
    },
    {
     "data": {
      "text/plain": [
       "GridSearchCV(cv=5, error_score=nan,\n",
       "             estimator=Pipeline(memory=None,\n",
       "                                steps=[('sampling',\n",
       "                                        SMOTE(k_neighbors=5, kind='deprecated',\n",
       "                                              m_neighbors='deprecated',\n",
       "                                              n_jobs=1, out_step='deprecated',\n",
       "                                              random_state=42, ratio=None,\n",
       "                                              sampling_strategy='minority',\n",
       "                                              svm_estimator='deprecated')),\n",
       "                                       ('classification',\n",
       "                                        LogisticRegression(C=1.0,\n",
       "                                                           class_weight=None,\n",
       "                                                           dual=False,\n",
       "                                                           fit_intercept=T...\n",
       "                                                           l1_ratio=None,\n",
       "                                                           max_iter=100,\n",
       "                                                           multi_class='auto',\n",
       "                                                           n_jobs=None,\n",
       "                                                           penalty='l2',\n",
       "                                                           random_state=42,\n",
       "                                                           solver='lbfgs',\n",
       "                                                           tol=0.0001,\n",
       "                                                           verbose=0,\n",
       "                                                           warm_start=False))],\n",
       "                                verbose=False),\n",
       "             iid='deprecated', n_jobs=-1,\n",
       "             param_grid={'classification__C': [0.01, 0.1, 1, 10, 100],\n",
       "                         'classification__max_iter': [500]},\n",
       "             pre_dispatch='2*n_jobs', refit=True, return_train_score=False,\n",
       "             scoring='f1', verbose=2)"
      ]
     },
     "execution_count": 43,
     "metadata": {},
     "output_type": "execute_result"
    }
   ],
   "source": [
    "GSCV_3.fit(X_train, y_train)"
   ]
  },
  {
   "cell_type": "code",
   "execution_count": 44,
   "metadata": {},
   "outputs": [],
   "source": [
    "clf_3 = GSCV_3.best_estimator_"
   ]
  },
  {
   "cell_type": "markdown",
   "metadata": {},
   "source": [
    "### Evaluation on test set"
   ]
  },
  {
   "cell_type": "code",
   "execution_count": 314,
   "metadata": {},
   "outputs": [],
   "source": [
    "X_train_smote, y_train_smote = smote.fit_resample(X_train, y_train)"
   ]
  },
  {
   "cell_type": "code",
   "execution_count": 316,
   "metadata": {},
   "outputs": [],
   "source": [
    "clf_3 = LogisticRegression(random_state=seed, C=0.01, max_iter=500).fit(X_train_smote, y_train_smote)"
   ]
  },
  {
   "cell_type": "code",
   "execution_count": 317,
   "metadata": {},
   "outputs": [
    {
     "name": "stdout",
     "output_type": "stream",
     "text": [
      "Class distribution in test data:\n",
      "Normal: 85295\n",
      "Fraud: 148\n"
     ]
    },
    {
     "data": {
      "image/png": "[encoded data removed]",
      "text/plain": [
       "<Figure size 1440x432 with 4 Axes>"
      ]
     },
     "metadata": {
      "needs_background": "light"
     },
     "output_type": "display_data"
    },
    {
     "data": {
      "image/png": "[encoded data removed]",
      "text/plain": [
       "<Figure size 432x288 with 1 Axes>"
      ]
     },
     "metadata": {
      "needs_background": "light"
     },
     "output_type": "display_data"
    }
   ],
   "source": [
    "evaluate_model(clf_3, X_test, y_test, 'OverSampling + LogisticRegression')"
   ]
  },
  {
   "cell_type": "code",
   "execution_count": 45,
   "metadata": {},
   "outputs": [
    {
     "name": "stdout",
     "output_type": "stream",
     "text": [
      "Class distribution in test data:\n",
      "Normal: 85295\n",
      "Fraud: 148\n"
     ]
    },
    {
     "data": {
      "image/png": "[encoded data removed]",
      "text/plain": [
       "<Figure size 1440x432 with 4 Axes>"
      ]
     },
     "metadata": {
      "needs_background": "light"
     },
     "output_type": "display_data"
    },
    {
     "data": {
      "image/png": "[encoded data removed]",
      "text/plain": [
       "<Figure size 432x288 with 1 Axes>"
      ]
     },
     "metadata": {
      "needs_background": "light"
     },
     "output_type": "display_data"
    }
   ],
   "source": [
    "smote = SMOTE(sampling_strategy='minority', random_state=seed)\n",
    "X_train_smote, y_train_smote = smote.fit_resample(X_train, y_train)\n",
    "evaluate_model(clf_3, X_test, y_test, 'OverSampling + LogisticRegression')"
   ]
  },
  {
   "cell_type": "markdown",
   "metadata": {},
   "source": [
    "## Option 4: Under-sampling + Logistic Regression"
   ]
  },
  {
   "cell_type": "code",
   "execution_count": 306,
   "metadata": {},
   "outputs": [],
   "source": [
    "parameters = {\n",
    "    'C':[0.01, 0.1, 1, 10, 100],\n",
    "}"
   ]
  },
  {
   "cell_type": "code",
   "execution_count": 307,
   "metadata": {},
   "outputs": [],
   "source": [
    "rus = RandomUnderSampler(sampling_strategy='majority', random_state=seed) # define sampling method"
   ]
  },
  {
   "cell_type": "code",
   "execution_count": 308,
   "metadata": {
    "scrolled": false
   },
   "outputs": [
    {
     "name": "stdout",
     "output_type": "stream",
     "text": [
      "Tested model with C = 0.01\n",
      "Mean accuracy:\t 0.991427744968284\n",
      "Mean recall:\t 0.8864876385336743\n",
      "Mean f1-score:\t 0.2636873217251682\n",
      "\n",
      "Tested model with C = 0.1\n",
      "Mean accuracy:\t 0.9811751460666912\n",
      "Mean recall:\t 0.9156436487638533\n",
      "Mean f1-score:\t 0.1447958938602489\n",
      "\n",
      "Tested model with C = 1\n",
      "Mean accuracy:\t 0.9711933940622632\n",
      "Mean recall:\t 0.9243393009377664\n",
      "Mean f1-score:\t 0.10156045126135922\n",
      "\n",
      "Tested model with C = 10\n",
      "Mean accuracy:\t 0.9672508434836384\n",
      "Mean recall:\t 0.9243393009377664\n",
      "Mean f1-score:\t 0.09037098889952237\n",
      "\n",
      "Tested model with C = 100\n",
      "Mean accuracy:\t 0.9650638688651073\n",
      "Mean recall:\t 0.918542199488491\n",
      "Mean f1-score:\t 0.08537542631621389\n",
      "\n"
     ]
    }
   ],
   "source": [
    "avg_accuracy_scores, avg_recall_scores, avg_f1_scores = manual_cv(rus, parameters)"
   ]
  },
  {
   "cell_type": "code",
   "execution_count": 296,
   "metadata": {},
   "outputs": [
    {
     "data": {
      "text/plain": [
       "[0.8864876385336743,\n",
       " 0.9156436487638533,\n",
       " 0.9243393009377664,\n",
       " 0.9243393009377664,\n",
       " 0.918542199488491]"
      ]
     },
     "execution_count": 296,
     "metadata": {},
     "output_type": "execute_result"
    }
   ],
   "source": [
    "avg_recall_scores"
   ]
  },
  {
   "cell_type": "code",
   "execution_count": 297,
   "metadata": {},
   "outputs": [
    {
     "data": {
      "text/plain": [
       "[0.991427744968284,\n",
       " 0.9811751460666912,\n",
       " 0.9711933940622632,\n",
       " 0.9672508434836384,\n",
       " 0.9650638688651073]"
      ]
     },
     "execution_count": 297,
     "metadata": {},
     "output_type": "execute_result"
    }
   ],
   "source": [
    "avg_accuracy_scores"
   ]
  },
  {
   "cell_type": "code",
   "execution_count": 298,
   "metadata": {},
   "outputs": [
    {
     "data": {
      "text/plain": [
       "[0.2636873217251682,\n",
       " 0.1447958938602489,\n",
       " 0.10156045126135922,\n",
       " 0.09037098889952237,\n",
       " 0.08537542631621389]"
      ]
     },
     "execution_count": 298,
     "metadata": {},
     "output_type": "execute_result"
    }
   ],
   "source": [
    "avg_f1_scores"
   ]
  },
  {
   "cell_type": "markdown",
   "metadata": {},
   "source": [
    "### Evaluate on test set"
   ]
  },
  {
   "cell_type": "code",
   "execution_count": 318,
   "metadata": {},
   "outputs": [],
   "source": [
    "X_train_rus, y_train_rus = rus.fit_resample(X_train, y_train)"
   ]
  },
  {
   "cell_type": "code",
   "execution_count": 321,
   "metadata": {},
   "outputs": [],
   "source": [
    "clf_4 = LogisticRegression(random_state=seed, C=0.01, max_iter=500).fit(X_train_rus, y_train_rus)"
   ]
  },
  {
   "cell_type": "code",
   "execution_count": 322,
   "metadata": {},
   "outputs": [
    {
     "name": "stdout",
     "output_type": "stream",
     "text": [
      "Class distribution in test data:\n",
      "Normal: 85295\n",
      "Fraud: 148\n"
     ]
    },
    {
     "data": {
      "image/png": "[encoded data removed]",
      "text/plain": [
       "<Figure size 1440x432 with 4 Axes>"
      ]
     },
     "metadata": {
      "needs_background": "light"
     },
     "output_type": "display_data"
    },
    {
     "data": {
      "image/png": "[encoded data removed]",
      "text/plain": [
       "<Figure size 432x288 with 1 Axes>"
      ]
     },
     "metadata": {
      "needs_background": "light"
     },
     "output_type": "display_data"
    }
   ],
   "source": [
    "evaluate_model(clf_4, X_test, y_test, 'UnderSampling + LogisticRegression')"
   ]
  },
  {
   "cell_type": "markdown",
   "metadata": {},
   "source": [
    "## Summary"
   ]
  },
  {
   "cell_type": "code",
   "execution_count": null,
   "metadata": {},
   "outputs": [],
   "source": []
  }
 ],
 "metadata": {
  "kernelspec": {
   "display_name": "Python [conda env:creditcardfraud] *",
   "language": "python",
   "name": "conda-env-creditcardfraud-py"
  },
  "language_info": {
   "codemirror_mode": {
    "name": "ipython",
    "version": 3
   },
   "file_extension": ".py",
   "mimetype": "text/x-python",
   "name": "python",
   "nbconvert_exporter": "python",
   "pygments_lexer": "ipython3",
   "version": "3.7.0"
  }
 },
 "nbformat": 4,
 "nbformat_minor": 2
}
