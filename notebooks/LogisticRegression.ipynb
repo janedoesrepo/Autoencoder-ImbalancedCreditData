{
 "cells": [
  {
   "cell_type": "markdown",
   "metadata": {
    "toc": true
   },
   "source": [
    "<h1>Table of Contents<span class=\"tocSkip\"></span></h1>\n",
    "<div class=\"toc\"><ul class=\"toc-item\"><li><span><a href=\"#Preparations\" data-toc-modified-id=\"Preparations-1\"><span class=\"toc-item-num\">1&nbsp;&nbsp;</span>Preparations</a></span><ul class=\"toc-item\"><li><span><a href=\"#Import-data\" data-toc-modified-id=\"Import-data-1.1\"><span class=\"toc-item-num\">1.1&nbsp;&nbsp;</span>Import data</a></span></li><li><span><a href=\"#Reduce-Data-Set\" data-toc-modified-id=\"Reduce-Data-Set-1.2\"><span class=\"toc-item-num\">1.2&nbsp;&nbsp;</span>Reduce Data Set</a></span></li><li><span><a href=\"#Scale-Time-and-Amount\" data-toc-modified-id=\"Scale-Time-and-Amount-1.3\"><span class=\"toc-item-num\">1.3&nbsp;&nbsp;</span>Scale Time and Amount</a></span></li><li><span><a href=\"#Create-a-hold-out-test-set\" data-toc-modified-id=\"Create-a-hold-out-test-set-1.4\"><span class=\"toc-item-num\">1.4&nbsp;&nbsp;</span>Create a hold out test set</a></span></li></ul></li><li><span><a href=\"#Logistic-Regression-Model-(whole-dataset)\" data-toc-modified-id=\"Logistic-Regression-Model-(whole-dataset)-2\"><span class=\"toc-item-num\">2&nbsp;&nbsp;</span>Logistic Regression Model (whole dataset)</a></span><ul class=\"toc-item\"><li><span><a href=\"#Define-objective\" data-toc-modified-id=\"Define-objective-2.1\"><span class=\"toc-item-num\">2.1&nbsp;&nbsp;</span>Define objective</a></span></li><li><span><a href=\"#Cross-Validation-(Grid-Search)\" data-toc-modified-id=\"Cross-Validation-(Grid-Search)-2.2\"><span class=\"toc-item-num\">2.2&nbsp;&nbsp;</span>Cross Validation (Grid Search)</a></span><ul class=\"toc-item\"><li><span><a href=\"#Define-parameters\" data-toc-modified-id=\"Define-parameters-2.2.1\"><span class=\"toc-item-num\">2.2.1&nbsp;&nbsp;</span>Define parameters</a></span></li><li><span><a href=\"#Define-CV\" data-toc-modified-id=\"Define-CV-2.2.2\"><span class=\"toc-item-num\">2.2.2&nbsp;&nbsp;</span>Define CV</a></span></li><li><span><a href=\"#Go\" data-toc-modified-id=\"Go-2.2.3\"><span class=\"toc-item-num\">2.2.3&nbsp;&nbsp;</span>Go</a></span></li><li><span><a href=\"#Results\" data-toc-modified-id=\"Results-2.2.4\"><span class=\"toc-item-num\">2.2.4&nbsp;&nbsp;</span>Results</a></span></li></ul></li><li><span><a href=\"#Test\" data-toc-modified-id=\"Test-2.3\"><span class=\"toc-item-num\">2.3&nbsp;&nbsp;</span>Test</a></span></li></ul></li><li><span><a href=\"#Reducing-the-dataset\" data-toc-modified-id=\"Reducing-the-dataset-3\"><span class=\"toc-item-num\">3&nbsp;&nbsp;</span>Reducing the dataset</a></span><ul class=\"toc-item\"><li><span><a href=\"#Under-sampling\" data-toc-modified-id=\"Under-sampling-3.1\"><span class=\"toc-item-num\">3.1&nbsp;&nbsp;</span>Under-sampling</a></span></li><li><span><a href=\"#Over-sampling\" data-toc-modified-id=\"Over-sampling-3.2\"><span class=\"toc-item-num\">3.2&nbsp;&nbsp;</span>Over-sampling</a></span></li></ul></li></ul></div>"
   ]
  },
  {
   "cell_type": "markdown",
   "metadata": {},
   "source": [
    "## Preparations"
   ]
  },
  {
   "cell_type": "code",
   "execution_count": 188,
   "metadata": {},
   "outputs": [],
   "source": [
    "import pandas as pd\n",
    "import numpy as np\n",
    "\n",
    "import sklearn\n",
    "from sklearn.metrics import classification_report, plot_confusion_matrix, plot_precision_recall_curve\n",
    "from sklearn.linear_model import LogisticRegression\n",
    "from sklearn.preprocessing import StandardScaler\n",
    "from sklearn.model_selection import train_test_split, GridSearchCV, RandomizedSearchCV\n",
    "\n",
    "import matplotlib.pyplot as plt\n",
    "%matplotlib inline\n",
    "\n",
    "seed = 42"
   ]
  },
  {
   "cell_type": "markdown",
   "metadata": {},
   "source": [
    "### Import data"
   ]
  },
  {
   "cell_type": "code",
   "execution_count": 190,
   "metadata": {},
   "outputs": [
    {
     "name": "stdout",
     "output_type": "stream",
     "text": [
      "Rows: 284807\n",
      "Cols: 31\n"
     ]
    }
   ],
   "source": [
    "df = pd.read_csv(\"../data/creditcard.csv\")\n",
    "print(f\"Rows: {df.shape[0]}\")\n",
    "print(f\"Cols: {df.shape[1]}\")"
   ]
  },
  {
   "cell_type": "markdown",
   "metadata": {},
   "source": [
    "### Scale Time and Amount"
   ]
  },
  {
   "cell_type": "code",
   "execution_count": 191,
   "metadata": {},
   "outputs": [],
   "source": [
    "df.Time = StandardScaler().fit_transform(df.Time.values.reshape(-1, 1))\n",
    "df.Amount = StandardScaler().fit_transform(df.Amount.values.reshape(-1, 1))"
   ]
  },
  {
   "cell_type": "markdown",
   "metadata": {},
   "source": [
    "### Create a hold out test set\n",
    "\n",
    "We will keep a certain amount of the data aside for testing purposes. This dataset will remain unseen to the models throughout the whole training and validation pipeline."
   ]
  },
  {
   "cell_type": "code",
   "execution_count": 192,
   "metadata": {},
   "outputs": [],
   "source": [
    "X_orig = df.drop('Class', axis=1)\n",
    "y_orig = df.Class"
   ]
  },
  {
   "cell_type": "code",
   "execution_count": 193,
   "metadata": {},
   "outputs": [],
   "source": [
    "# X_orig = StandardScaler().fit_transform(X_orig)"
   ]
  },
  {
   "cell_type": "code",
   "execution_count": 194,
   "metadata": {},
   "outputs": [],
   "source": [
    "X_train, X_test, y_train, y_test = train_test_split(X_orig, y_orig, test_size=0.3,\n",
    "                                              random_state=seed, stratify=y_orig)"
   ]
  },
  {
   "cell_type": "markdown",
   "metadata": {},
   "source": [
    "## Logistic Regression Model (whole dataset)"
   ]
  },
  {
   "cell_type": "markdown",
   "metadata": {},
   "source": [
    "### Define objective"
   ]
  },
  {
   "cell_type": "code",
   "execution_count": 175,
   "metadata": {},
   "outputs": [],
   "source": [
    "# sorted(sklearn.metrics.SCORERS.keys())"
   ]
  },
  {
   "cell_type": "code",
   "execution_count": 176,
   "metadata": {},
   "outputs": [],
   "source": [
    "# https://scikit-learn.org/stable/modules/generated/sklearn.metrics.recall_score.html\n",
    "# We are dealing with imbalanced data, thus accuracy is meaningless\n",
    "scoring = 'recall'"
   ]
  },
  {
   "cell_type": "markdown",
   "metadata": {},
   "source": [
    "### Cross Validation (Grid Search)\n",
    "https://scikit-learn.org/stable/modules/grid_search.html"
   ]
  },
  {
   "cell_type": "markdown",
   "metadata": {},
   "source": [
    "#### Define parameters"
   ]
  },
  {
   "cell_type": "code",
   "execution_count": 177,
   "metadata": {},
   "outputs": [],
   "source": [
    "# see estimator.get_params().keys()\n",
    "parameters = {\n",
    "    'C':[0.01, 0.1, 1, 10, 100],\n",
    "    'max_iter':[500]\n",
    "}"
   ]
  },
  {
   "cell_type": "markdown",
   "metadata": {},
   "source": [
    "#### Define CV"
   ]
  },
  {
   "cell_type": "code",
   "execution_count": 1,
   "metadata": {},
   "outputs": [
    {
     "ename": "NameError",
     "evalue": "name 'GridSearchCV' is not defined",
     "output_type": "error",
     "traceback": [
      "\u001b[1;31m---------------------------------------------------------------------------\u001b[0m",
      "\u001b[1;31mNameError\u001b[0m                                 Traceback (most recent call last)",
      "\u001b[1;32m<ipython-input-1-e4cddfdbfb3b>\u001b[0m in \u001b[0;36m<module>\u001b[1;34m\u001b[0m\n\u001b[1;32m----> 1\u001b[1;33m GSCV = GridSearchCV(LogisticRegression(solver='lbfgs', random_state=seed),\n\u001b[0m\u001b[0;32m      2\u001b[0m                     param_grid=parameters, scoring=scoring, n_jobs=-1, verbose=2)\n",
      "\u001b[1;31mNameError\u001b[0m: name 'GridSearchCV' is not defined"
     ]
    }
   ],
   "source": [
    "GSCV = GridSearchCV(LogisticRegression(random_state=0),\n",
    "                    param_grid=parameters, scoring=scoring, n_jobs=-1, verbose=2)"
   ]
  },
  {
   "cell_type": "markdown",
   "metadata": {},
   "source": [
    "#### Go"
   ]
  },
  {
   "cell_type": "code",
   "execution_count": 179,
   "metadata": {},
   "outputs": [
    {
     "name": "stdout",
     "output_type": "stream",
     "text": [
      "Fitting 5 folds for each of 5 candidates, totalling 25 fits\n"
     ]
    },
    {
     "name": "stderr",
     "output_type": "stream",
     "text": [
      "[Parallel(n_jobs=-1)]: Using backend LokyBackend with 8 concurrent workers.\n",
      "[Parallel(n_jobs=-1)]: Done  23 out of  25 | elapsed:   16.9s remaining:    1.4s\n",
      "[Parallel(n_jobs=-1)]: Done  25 out of  25 | elapsed:   17.6s finished\n"
     ]
    },
    {
     "data": {
      "text/plain": [
       "GridSearchCV(cv=None, error_score=nan,\n",
       "             estimator=LogisticRegression(C=1.0, class_weight=None, dual=False,\n",
       "                                          fit_intercept=True,\n",
       "                                          intercept_scaling=1, l1_ratio=None,\n",
       "                                          max_iter=100, multi_class='auto',\n",
       "                                          n_jobs=None, penalty='l2',\n",
       "                                          random_state=0, solver='lbfgs',\n",
       "                                          tol=0.0001, verbose=0,\n",
       "                                          warm_start=False),\n",
       "             iid='deprecated', n_jobs=-1,\n",
       "             param_grid={'C': [0.01, 0.1, 1, 10, 100], 'max_iter': [500]},\n",
       "             pre_dispatch='2*n_jobs', refit=True, return_train_score=False,\n",
       "             scoring='recall', verbose=2)"
      ]
     },
     "execution_count": 179,
     "metadata": {},
     "output_type": "execute_result"
    }
   ],
   "source": [
    "GSCV.fit(X_train, y_train)"
   ]
  },
  {
   "cell_type": "markdown",
   "metadata": {},
   "source": [
    "#### Results"
   ]
  },
  {
   "cell_type": "code",
   "execution_count": 180,
   "metadata": {},
   "outputs": [],
   "source": [
    "# GSCV.cv_results_"
   ]
  },
  {
   "cell_type": "code",
   "execution_count": 181,
   "metadata": {},
   "outputs": [
    {
     "data": {
      "text/plain": [
       "0.6480392156862745"
      ]
     },
     "execution_count": 181,
     "metadata": {},
     "output_type": "execute_result"
    }
   ],
   "source": [
    "GSCV.best_score_"
   ]
  },
  {
   "cell_type": "code",
   "execution_count": 182,
   "metadata": {},
   "outputs": [
    {
     "data": {
      "text/plain": [
       "LogisticRegression(C=10, class_weight=None, dual=False, fit_intercept=True,\n",
       "                   intercept_scaling=1, l1_ratio=None, max_iter=500,\n",
       "                   multi_class='auto', n_jobs=None, penalty='l2',\n",
       "                   random_state=0, solver='lbfgs', tol=0.0001, verbose=0,\n",
       "                   warm_start=False)"
      ]
     },
     "execution_count": 182,
     "metadata": {},
     "output_type": "execute_result"
    }
   ],
   "source": [
    "GSCV.best_estimator_"
   ]
  },
  {
   "cell_type": "markdown",
   "metadata": {},
   "source": [
    "### Test"
   ]
  },
  {
   "cell_type": "code",
   "execution_count": 184,
   "metadata": {},
   "outputs": [
    {
     "name": "stdout",
     "output_type": "stream",
     "text": [
      "Classification Report (GridSearchCV):\n",
      "\n",
      "              precision    recall  f1-score   support\n",
      "\n",
      "           0       1.00      1.00      1.00     85295\n",
      "           1       0.86      0.63      0.73       148\n",
      "\n",
      "    accuracy                           1.00     85443\n",
      "   macro avg       0.93      0.81      0.86     85443\n",
      "weighted avg       1.00      1.00      1.00     85443\n",
      "\n"
     ]
    }
   ],
   "source": [
    "print(\"Classification Report (GridSearchCV):\\n\")\n",
    "print(classification_report(y_holdout, GSCV.predict(X_holdout)))"
   ]
  },
  {
   "cell_type": "code",
   "execution_count": 185,
   "metadata": {},
   "outputs": [
    {
     "data": {
      "image/png": "[encoded data removed]",
      "text/plain": [
       "<Figure size 432x288 with 2 Axes>"
      ]
     },
     "metadata": {
      "needs_background": "light"
     },
     "output_type": "display_data"
    }
   ],
   "source": [
    "plot_confusion_matrix(GSCV, X_holdout, y_holdout, normalize='true', display_labels=['Normal', 'Fraud'], cmap='Greens')\n",
    "plt.show()"
   ]
  },
  {
   "cell_type": "code",
   "execution_count": 186,
   "metadata": {},
   "outputs": [
    {
     "data": {
      "image/png": "[encoded data removed]",
      "text/plain": [
       "<Figure size 432x288 with 1 Axes>"
      ]
     },
     "metadata": {
      "needs_background": "light"
     },
     "output_type": "display_data"
    }
   ],
   "source": [
    "plot_precision_recall_curve(GSCV, X_holdout, y_holdout, name='LogisticRegression')\n",
    "plt.show()"
   ]
  },
  {
   "cell_type": "markdown",
   "metadata": {},
   "source": [
    "## Reducing the dataset\n",
    "\n",
    "Timo mentioned that we do not have to work on the full dataset. Let's draw a sample from the normal cases while keeping all"
   ]
  },
  {
   "cell_type": "code",
   "execution_count": null,
   "metadata": {},
   "outputs": [],
   "source": [
    "# Separate fraudulent and normal transactions\n",
    "df_fraud = df[df['Class'] == 1]\n",
    "df_normal = df[df['Class'] == 0]"
   ]
  },
  {
   "cell_type": "markdown",
   "metadata": {},
   "source": [
    "### Under-sampling"
   ]
  },
  {
   "cell_type": "code",
   "execution_count": 6,
   "metadata": {},
   "outputs": [
    {
     "name": "stdout",
     "output_type": "stream",
     "text": [
      "Number of transactions: 984\n"
     ]
    }
   ],
   "source": [
    "# Sample a sub set of the normal transactions\n",
    "df_normal_sub = df_normal.sample(df_fraud.shape[0])\n",
    "\n",
    "# Merge fraud cases and the normal cases subsample\n",
    "df_under = pd.concat([df_fraud, df_normal_sub]).sample(frac=1, random_state=seed)"
   ]
  },
  {
   "cell_type": "code",
   "execution_count": 13,
   "metadata": {},
   "outputs": [
    {
     "name": "stdout",
     "output_type": "stream",
     "text": [
      "Distribution after Under-sampling:\n",
      "\n",
      "Number of transactions: 984\n",
      "Normal: 50.0 %\n",
      "Fraudulent: 50.0 %\n"
     ]
    }
   ],
   "source": [
    "print(\"Distribution after Under-sampling:\\n\")\n",
    "print(f\"Number of transactions: {df_under.shape[0]}\")\n",
    "print(f\"Normal: {round(df_under['Class'].value_counts(normalize = True)[0] * 100, 2)} %\")\n",
    "print(f\"Fraudulent: {round(df_under['Class'].value_counts(normalize = True)[1] * 100, 2)} %\")"
   ]
  },
  {
   "cell_type": "markdown",
   "metadata": {},
   "source": [
    "### Over-sampling"
   ]
  },
  {
   "cell_type": "code",
   "execution_count": 14,
   "metadata": {},
   "outputs": [
    {
     "name": "stderr",
     "output_type": "stream",
     "text": [
      "C:\\Users\\jaengel\\AppData\\Local\\Continuum\\miniconda3\\envs\\creditcardfraud\\lib\\site-packages\\sklearn\\utils\\deprecation.py:144: FutureWarning: The sklearn.neighbors.base module is  deprecated in version 0.22 and will be removed in version 0.24. The corresponding classes / functions should instead be imported from sklearn.neighbors. Anything that cannot be imported from sklearn.neighbors is now part of the private API.\n",
      "  warnings.warn(message, FutureWarning)\n",
      "C:\\Users\\jaengel\\AppData\\Local\\Continuum\\miniconda3\\envs\\creditcardfraud\\lib\\site-packages\\sklearn\\utils\\deprecation.py:144: FutureWarning: The sklearn.ensemble.bagging module is  deprecated in version 0.22 and will be removed in version 0.24. The corresponding classes / functions should instead be imported from sklearn.ensemble. Anything that cannot be imported from sklearn.ensemble is now part of the private API.\n",
      "  warnings.warn(message, FutureWarning)\n",
      "C:\\Users\\jaengel\\AppData\\Local\\Continuum\\miniconda3\\envs\\creditcardfraud\\lib\\site-packages\\sklearn\\utils\\deprecation.py:144: FutureWarning: The sklearn.ensemble.base module is  deprecated in version 0.22 and will be removed in version 0.24. The corresponding classes / functions should instead be imported from sklearn.ensemble. Anything that cannot be imported from sklearn.ensemble is now part of the private API.\n",
      "  warnings.warn(message, FutureWarning)\n",
      "C:\\Users\\jaengel\\AppData\\Local\\Continuum\\miniconda3\\envs\\creditcardfraud\\lib\\site-packages\\sklearn\\utils\\deprecation.py:144: FutureWarning: The sklearn.ensemble.forest module is  deprecated in version 0.22 and will be removed in version 0.24. The corresponding classes / functions should instead be imported from sklearn.ensemble. Anything that cannot be imported from sklearn.ensemble is now part of the private API.\n",
      "  warnings.warn(message, FutureWarning)\n",
      "Using TensorFlow backend.\n",
      "C:\\Users\\jaengel\\AppData\\Local\\Continuum\\miniconda3\\envs\\creditcardfraud\\lib\\site-packages\\sklearn\\utils\\deprecation.py:144: FutureWarning: The sklearn.utils.testing module is  deprecated in version 0.22 and will be removed in version 0.24. The corresponding classes / functions should instead be imported from sklearn.utils. Anything that cannot be imported from sklearn.utils is now part of the private API.\n",
      "  warnings.warn(message, FutureWarning)\n",
      "C:\\Users\\jaengel\\AppData\\Local\\Continuum\\miniconda3\\envs\\creditcardfraud\\lib\\site-packages\\sklearn\\utils\\deprecation.py:144: FutureWarning: The sklearn.metrics.classification module is  deprecated in version 0.22 and will be removed in version 0.24. The corresponding classes / functions should instead be imported from sklearn.metrics. Anything that cannot be imported from sklearn.metrics is now part of the private API.\n",
      "  warnings.warn(message, FutureWarning)\n"
     ]
    }
   ],
   "source": [
    "from imblearn.over_sampling import SMOTE # ref: https://imbalanced-learn.readthedocs.io/"
   ]
  },
  {
   "cell_type": "code",
   "execution_count": 17,
   "metadata": {},
   "outputs": [],
   "source": [
    "num_normal_transactions = 5000\n",
    "df_normal_smote = df_normal.sample(num_normal_transactions)"
   ]
  },
  {
   "cell_type": "code",
   "execution_count": 23,
   "metadata": {},
   "outputs": [],
   "source": [
    "df_smote_temp = pd.concat([df_fraud, df_normal_smote]).sample(frac=1, random_state=seed)\n",
    "X_smote = df_smote_temp.drop('Class', axis=1)\n",
    "y_smote = df_smote_temp['Class']"
   ]
  },
  {
   "cell_type": "code",
   "execution_count": 28,
   "metadata": {},
   "outputs": [],
   "source": [
    "X_smote, y_smote = SMOTE(sampling_strategy='minority').fit_resample(X_smote, y_smote)"
   ]
  },
  {
   "cell_type": "code",
   "execution_count": 27,
   "metadata": {},
   "outputs": [
    {
     "name": "stdout",
     "output_type": "stream",
     "text": [
      "Distribution after SMOTE (Over-sampling):\n",
      "\n",
      "Number of transactions: 10000\n",
      "Normal: 50.0 %\n",
      "Fraud: 50.0 %\n"
     ]
    }
   ],
   "source": [
    "print(\"Distribution after SMOTE (Over-sampling):\\n\")\n",
    "print(f\"Number of transactions: {X_smote.shape[0]}\")\n",
    "print(f\"Normal: {round(np.bincount(y_smote)[0]/y_smote.shape[0] * 100, 2)} %\")\n",
    "print(f\"Fraud: {round(np.bincount(y_smote)[1]/y_smote.shape[0] * 100, 2)} %\")"
   ]
  },
  {
   "cell_type": "code",
   "execution_count": null,
   "metadata": {},
   "outputs": [],
   "source": []
  }
 ],
 "metadata": {
  "kernelspec": {
   "display_name": "Python [conda env:creditcardfraud] *",
   "language": "python",
   "name": "conda-env-creditcardfraud-py"
  },
  "language_info": {
   "codemirror_mode": {
    "name": "ipython",
    "version": 3
   },
   "file_extension": ".py",
   "mimetype": "text/x-python",
   "name": "python",
   "nbconvert_exporter": "python",
   "pygments_lexer": "ipython3",
   "version": "3.7.0"
  },
  "toc": {
   "base_numbering": 1,
   "nav_menu": {},
   "number_sections": true,
   "sideBar": true,
   "skip_h1_title": true,
   "title_cell": "Table of Contents",
   "title_sidebar": "Contents",
   "toc_cell": true,
   "toc_position": {},
   "toc_section_display": true,
   "toc_window_display": true
  }
 },
 "nbformat": 4,
 "nbformat_minor": 2
}
